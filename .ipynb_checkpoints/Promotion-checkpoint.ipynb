{
 "cells": [
  {
   "cell_type": "markdown",
   "metadata": {},
   "source": [
    "## <center>Predict whether the Employee of an Organization should get Promotion or Not?</center>\n",
    "\n",
    "&nbsp;\n",
    "\n",
    "Your client is a large MNC and they have 9 broad verticals across the organisation. One of the problem your client is facing is around identifying the right people for promotion (only for manager position and below) and prepare them in time. Currently the process, they are following is:\n",
    "    * They first identify a set of employees based on recommendations/ past performance.\n",
    "    * Selected employees go through the separate training and evaluation program for each vertical. These programs are based on he required skill of each vertical\n",
    "    * At the end of the program, based on various factors such as training performance, an employee gets the promotion\n",
    "\n",
    "![image](https://corehr.files.wordpress.com/2013/02/wrong-promotion1.jpg?w=290)"
   ]
  },
  {
   "cell_type": "code",
   "execution_count": null,
   "metadata": {},
   "outputs": [],
   "source": []
  }
 ],
 "metadata": {
  "kernelspec": {
   "display_name": "Python 3 (ipykernel)",
   "language": "python",
   "name": "python3"
  },
  "language_info": {
   "codemirror_mode": {
    "name": "ipython",
    "version": 3
   },
   "file_extension": ".py",
   "mimetype": "text/x-python",
   "name": "python",
   "nbconvert_exporter": "python",
   "pygments_lexer": "ipython3",
   "version": "3.9.5"
  }
 },
 "nbformat": 4,
 "nbformat_minor": 2
}
