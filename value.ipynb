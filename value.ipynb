{
 "cells": [
  {
   "cell_type": "code",
   "execution_count": null,
   "source": [],
   "outputs": [],
   "metadata": {}
  },
  {
   "cell_type": "code",
   "execution_count": 83,
   "source": [
    "department = wg.IntText(value=0, min=0, max=8, description ='dept. 0-8')\r\n",
    "d = wg.IntSlider(value=0, min=0, max=8)\r\n",
    "display(department, d)\r\n",
    "d_link = wg.jslink((department, 'value'),(d, 'value'))\r\n",
    "\r\n",
    "education = wg.IntText(value=0, min=0, max=3, description ='edu. 0-3')\r\n",
    "e = wg.IntSlider(value=0, min=0, max=3)\r\n",
    "display(education, e)\r\n",
    "d_link = wg.jslink((education, 'value'),(e, 'value'))\r\n",
    "\r\n",
    "gender = wg.IntText(value=0, min=0, max=1, description ='0-F, 1-M')\r\n",
    "g = wg.IntSlider(value=0, min=0, max=1)\r\n",
    "display(gender, g)\r\n",
    "d_link = wg.jslink((gender, 'value'),(g, 'value'))\r\n",
    "\r\n",
    "no_of_tranings = wg.IntText(value=0, min=0, max=5, description ='0-5')\r\n",
    "nt = wg.IntSlider(value=0, min=0, max=5)\r\n",
    "display(no_of_tranings, nt)\r\n",
    "d_link = wg.jslink((no_of_tranings, 'value'),(nt, 'value'))\r\n",
    "\r\n",
    "age = wg.IntText(value=20, min=20, max=60, description ='age 20-60')\r\n",
    "a = wg.IntSlider(value=20, min=20, max=60)\r\n",
    "display(age, a)\r\n",
    "d_link = wg.jslink((age, 'value'),(a, 'value'))\r\n",
    "\r\n",
    "previous_year_rating = wg.IntText(value=1, min=1, max=5, description = 'Ratings 1-5')\r\n",
    "pvr = wg.IntSlider(value=1, min=1, max=5)\r\n",
    "display(previous_year_rating, pvr)\r\n",
    "d_link = wg.jslink((previous_year_rating, 'value'),(pvr, 'value'))\r\n",
    "\r\n",
    "length_of_service = wg.IntText(value=1, min=1, max=37, description='Years of service')\r\n",
    "ln = wg.IntSlider(value=1, min=1, max=37)\r\n",
    "display(length_of_service, ln)\r\n",
    "d_link = wg.jslink((length_of_service, 'value'),(ln, 'value'))\r\n",
    "\r\n",
    "KPIs_met = wg.IntText(value=0, min=0, max=1, description='1-met, 0-not met')\r\n",
    "KPI = wg.IntSlider(value=0, min=0, max=1)\r\n",
    "display(KPIs_met, KPI)\r\n",
    "d_link = wg.jslink((KPIs_met, 'value'),(KPI, 'value'))\r\n",
    "\r\n",
    "Awards = wg.IntText(value=0, min=0, max=1, description='1-yes, 0-no')\r\n",
    "awd = wg.IntSlider(value=0, min=0, max=1)\r\n",
    "display(Awards, awd)\r\n",
    "d_link = wg.jslink((Awards, 'value'),(awd, 'value'))\r\n",
    "\r\n",
    "avg_training_score = wg.IntText(value=44, min=44, max=99, description='scroe 44-99')\r\n",
    "avg = wg.IntSlider(value=44, min=44, max=99)\r\n",
    "display(avg_training_score, avg)\r\n",
    "d_link = wg.jslink((avg_training_score, 'value'),(avg, 'value'))\r\n",
    "\r\n",
    "sum_metrics = wg.IntText(value=1, min=1, max=7, description='1-7')\r\n",
    "su = wg.IntSlider(value=1, min=1, max=7)\r\n",
    "display(sum_metrics, su)\r\n",
    "d_link = wg.jslink((sum_metrics, 'value'),(su, 'value'))\r\n",
    "\r\n",
    "Total_score = wg.IntText(value=40, min=40, max=710, description='score: 40-710')\r\n",
    "tos = wg.IntSlider(value=40, min=40, max=710)\r\n",
    "display(Total_score, tos)\r\n",
    "d_link = wg.jslink((Total_score, 'value'),(tos, 'value'))\r\n",
    "\r\n",
    "\r\n",
    "\r\n",
    "\r\n",
    "\r\n",
    "\r\n",
    "\r\n",
    "wg.ToggleButton(\r\n",
    "    value=False,\r\n",
    "    description='Click me',\r\n",
    "   )\r\n",
    "    "
   ],
   "outputs": [
    {
     "data": {
      "text/plain": [
       "IntText(value=0, description='dept. 0-8')"
      ],
      "application/vnd.jupyter.widget-view+json": {
       "version_major": 2,
       "version_minor": 0,
       "model_id": "fcb79b6a590340eb93b3b286bee0aa1f"
      }
     },
     "metadata": {},
     "output_type": "display_data"
    },
    {
     "data": {
      "text/plain": [
       "IntSlider(value=0, max=8)"
      ],
      "application/vnd.jupyter.widget-view+json": {
       "version_major": 2,
       "version_minor": 0,
       "model_id": "0bbdc1090bff4a96aaf1134439f23be3"
      }
     },
     "metadata": {},
     "output_type": "display_data"
    },
    {
     "data": {
      "text/plain": [
       "IntText(value=0, description='edu. 0-3')"
      ],
      "application/vnd.jupyter.widget-view+json": {
       "version_major": 2,
       "version_minor": 0,
       "model_id": "9f7e37c921214ef78c3bed33c64d33b1"
      }
     },
     "metadata": {},
     "output_type": "display_data"
    },
    {
     "data": {
      "text/plain": [
       "IntSlider(value=0, max=3)"
      ],
      "application/vnd.jupyter.widget-view+json": {
       "version_major": 2,
       "version_minor": 0,
       "model_id": "9eced826962b4fdebf1aafe795ca246e"
      }
     },
     "metadata": {},
     "output_type": "display_data"
    },
    {
     "data": {
      "text/plain": [
       "IntText(value=0, description='0-F, 1-M')"
      ],
      "application/vnd.jupyter.widget-view+json": {
       "version_major": 2,
       "version_minor": 0,
       "model_id": "d9c360ca120442f28368fa1202a4795b"
      }
     },
     "metadata": {},
     "output_type": "display_data"
    },
    {
     "data": {
      "text/plain": [
       "IntSlider(value=0, max=1)"
      ],
      "application/vnd.jupyter.widget-view+json": {
       "version_major": 2,
       "version_minor": 0,
       "model_id": "772078457f82438f86c1caf55ebac3a1"
      }
     },
     "metadata": {},
     "output_type": "display_data"
    },
    {
     "data": {
      "text/plain": [
       "IntText(value=0, description='0-5')"
      ],
      "application/vnd.jupyter.widget-view+json": {
       "version_major": 2,
       "version_minor": 0,
       "model_id": "be828d9c68f341ad9c35e0d1a13626b1"
      }
     },
     "metadata": {},
     "output_type": "display_data"
    },
    {
     "data": {
      "text/plain": [
       "IntSlider(value=0, max=5)"
      ],
      "application/vnd.jupyter.widget-view+json": {
       "version_major": 2,
       "version_minor": 0,
       "model_id": "057ecc9ceef443369a15c02d551f7bf2"
      }
     },
     "metadata": {},
     "output_type": "display_data"
    },
    {
     "data": {
      "text/plain": [
       "IntText(value=20, description='age 20-60')"
      ],
      "application/vnd.jupyter.widget-view+json": {
       "version_major": 2,
       "version_minor": 0,
       "model_id": "b4e96b8c65bb4328a8066570a36e98da"
      }
     },
     "metadata": {},
     "output_type": "display_data"
    },
    {
     "data": {
      "text/plain": [
       "IntSlider(value=20, max=60, min=20)"
      ],
      "application/vnd.jupyter.widget-view+json": {
       "version_major": 2,
       "version_minor": 0,
       "model_id": "83a4cd220931488eaaf89f30454ccdc2"
      }
     },
     "metadata": {},
     "output_type": "display_data"
    },
    {
     "data": {
      "text/plain": [
       "IntText(value=1, description='Ratings 1-5')"
      ],
      "application/vnd.jupyter.widget-view+json": {
       "version_major": 2,
       "version_minor": 0,
       "model_id": "d4ba52478c2d4025957d373a6670c8d3"
      }
     },
     "metadata": {},
     "output_type": "display_data"
    },
    {
     "data": {
      "text/plain": [
       "IntSlider(value=1, max=5, min=1)"
      ],
      "application/vnd.jupyter.widget-view+json": {
       "version_major": 2,
       "version_minor": 0,
       "model_id": "d0d8c9f3ce444e5fa2e13e89034e5d55"
      }
     },
     "metadata": {},
     "output_type": "display_data"
    },
    {
     "data": {
      "text/plain": [
       "IntText(value=1, description='Years of service')"
      ],
      "application/vnd.jupyter.widget-view+json": {
       "version_major": 2,
       "version_minor": 0,
       "model_id": "984dda04aeea4f8db9aaa261f785e753"
      }
     },
     "metadata": {},
     "output_type": "display_data"
    },
    {
     "data": {
      "text/plain": [
       "IntSlider(value=1, max=37, min=1)"
      ],
      "application/vnd.jupyter.widget-view+json": {
       "version_major": 2,
       "version_minor": 0,
       "model_id": "b558371ceacd4c159ec9563fbc985ea1"
      }
     },
     "metadata": {},
     "output_type": "display_data"
    },
    {
     "data": {
      "text/plain": [
       "IntText(value=0, description='1-met, 0-not met')"
      ],
      "application/vnd.jupyter.widget-view+json": {
       "version_major": 2,
       "version_minor": 0,
       "model_id": "ed3d07fdada542b89840ca0777668c1d"
      }
     },
     "metadata": {},
     "output_type": "display_data"
    },
    {
     "data": {
      "text/plain": [
       "IntSlider(value=0, max=1)"
      ],
      "application/vnd.jupyter.widget-view+json": {
       "version_major": 2,
       "version_minor": 0,
       "model_id": "2b46b9f9d43a436ca077ff50726800b4"
      }
     },
     "metadata": {},
     "output_type": "display_data"
    },
    {
     "data": {
      "text/plain": [
       "IntText(value=0, description='1-yes, 0-no')"
      ],
      "application/vnd.jupyter.widget-view+json": {
       "version_major": 2,
       "version_minor": 0,
       "model_id": "effbb811c8794aa89ab5eb20875252e9"
      }
     },
     "metadata": {},
     "output_type": "display_data"
    },
    {
     "data": {
      "text/plain": [
       "IntSlider(value=0, max=1)"
      ],
      "application/vnd.jupyter.widget-view+json": {
       "version_major": 2,
       "version_minor": 0,
       "model_id": "4ae9e4dca748400d9ff20ba95fa80dc1"
      }
     },
     "metadata": {},
     "output_type": "display_data"
    },
    {
     "data": {
      "text/plain": [
       "IntText(value=44, description='scroe 44-99')"
      ],
      "application/vnd.jupyter.widget-view+json": {
       "version_major": 2,
       "version_minor": 0,
       "model_id": "3ae08af8dfc64bb7b469b300a06a17d6"
      }
     },
     "metadata": {},
     "output_type": "display_data"
    },
    {
     "data": {
      "text/plain": [
       "IntSlider(value=44, max=99, min=44)"
      ],
      "application/vnd.jupyter.widget-view+json": {
       "version_major": 2,
       "version_minor": 0,
       "model_id": "a32db5f5585c45319b82d43b9b191a58"
      }
     },
     "metadata": {},
     "output_type": "display_data"
    },
    {
     "data": {
      "text/plain": [
       "IntText(value=0, description='1-7')"
      ],
      "application/vnd.jupyter.widget-view+json": {
       "version_major": 2,
       "version_minor": 0,
       "model_id": "4fe4fb29197e46abbfe2e96b58133a5c"
      }
     },
     "metadata": {},
     "output_type": "display_data"
    },
    {
     "data": {
      "text/plain": [
       "IntSlider(value=0, max=8)"
      ],
      "application/vnd.jupyter.widget-view+json": {
       "version_major": 2,
       "version_minor": 0,
       "model_id": "f01d34781c814882bcb6f542c95bd62e"
      }
     },
     "metadata": {},
     "output_type": "display_data"
    },
    {
     "data": {
      "text/plain": [
       "IntText(value=40, description='score: 40-710')"
      ],
      "application/vnd.jupyter.widget-view+json": {
       "version_major": 2,
       "version_minor": 0,
       "model_id": "a5824d6be63c40159abbb6443220de50"
      }
     },
     "metadata": {},
     "output_type": "display_data"
    },
    {
     "data": {
      "text/plain": [
       "IntSlider(value=40, max=710, min=40)"
      ],
      "application/vnd.jupyter.widget-view+json": {
       "version_major": 2,
       "version_minor": 0,
       "model_id": "838918c121da47c3b01c42e7f120ca72"
      }
     },
     "metadata": {},
     "output_type": "display_data"
    },
    {
     "data": {
      "text/plain": [
       "ToggleButton(value=False, description='Click me')"
      ],
      "application/vnd.jupyter.widget-view+json": {
       "version_major": 2,
       "version_minor": 0,
       "model_id": "5995d2fc5f8243968e9171b69a4a7976"
      }
     },
     "metadata": {},
     "output_type": "display_data"
    }
   ],
   "metadata": {}
  },
  {
   "cell_type": "code",
   "execution_count": 87,
   "source": [
    "\r\n",
    "prediction = model.predict(np.array([[d.value,e.value,g.value,nt.value,a.value,pvr.value,ln.value,KPI.value,awd.value,avg.value,su.value,tos.value]]))\r\n",
    "\r\n",
    "print(\"Whether the Employee should get a Promotion : 1-> Promotion, and 0-> No Promotion :\", prediction)"
   ],
   "outputs": [
    {
     "output_type": "stream",
     "name": "stdout",
     "text": [
      "Whether the Employee should get a Promotion : 1-> Promotion, and 0-> No Promotion : [0]\n"
     ]
    }
   ],
   "metadata": {}
  }
 ],
 "metadata": {
  "orig_nbformat": 4,
  "language_info": {
   "name": "python"
  }
 },
 "nbformat": 4,
 "nbformat_minor": 2
}