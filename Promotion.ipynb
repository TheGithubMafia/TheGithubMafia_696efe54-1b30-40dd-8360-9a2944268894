{
 "cells": [
  {
   "cell_type": "markdown",
   "source": [
    "## <h1><center>Predict whether the Employee of an Organization should get Promotion or Not?</center></h1>\r\n",
    "\r\n",
    "&nbsp;\r\n",
    "\r\n",
    "<h2>Aim:</h2>\r\n",
    "\r\n",
    "The client is a large MNC and they have 9 broad verticals across the organisation. One of the problem your client is facing is around identifying the right people for promotion (only for manager position and below) and prepare them in time. Currently the process, they are following is:\r\n",
    "    * They first identify a set of employees based on recommendations/ past performance.\r\n",
    "    * Selected employees go through the separate training and evaluation program for each vertical. These programs are based on he required skill of each vertical\r\n",
    "    * At the end of the program, based on various factors such as training performance, an employee gets the promotion\r\n",
    "\r\n",
    "![image](https://economictimes.indiatimes.com/photo/20474308.cms)"
   ],
   "metadata": {}
  },
  {
   "cell_type": "markdown",
   "source": [
    "## Importing all the Required Libraries\n",
    "\n",
    "* We Import Numpy, Pandas, Matplot, and Seaborn for Data Analysis and Visualizations\n",
    "* We import ipywidgets, Sweetviz, ppscore for Exploratory Data Analysis\n",
    "* We Import Sklearn, Imblearn for Machine Learning Modelling"
   ],
   "metadata": {}
  },
  {
   "cell_type": "code",
   "execution_count": 1,
   "source": [
    "# import all the required libraries\r\n",
    "\r\n",
    "# for mathematical operations\r\n",
    "import numpy as np\r\n",
    "\r\n",
    "# for dataframe operations\r\n",
    "import pandas as pd\r\n",
    "\r\n",
    "# for data visualizations\r\n",
    "import seaborn as sns\r\n",
    "import matplotlib.pyplot as plt\r\n",
    "\r\n",
    "# for machine learning\r\n",
    "import sklearn\r\n",
    "import imblearn\r\n",
    "\r\n",
    "# setting up the size of the figures\r\n",
    "plt.rcParams['figure.figsize'] = (16, 5)\r\n",
    "# setting up the style of the plot\r\n",
    "plt.style.use('seaborn-paper')"
   ],
   "outputs": [],
   "metadata": {}
  },
  {
   "cell_type": "markdown",
   "source": [
    "## Reading the Dataset\n",
    "\n",
    "* We are having two datasets, i.e., Training and Testing Datasets\n",
    "* Read both the datasets \n",
    "* Training Datasets is used to train the Machine learning Models\n",
    "* After learning the patterns from the Testing Datasets, the Target Variable has to be predicted."
   ],
   "metadata": {}
  },
  {
   "cell_type": "code",
   "execution_count": 2,
   "source": [
    "# reading the datasets\r\n",
    "\r\n",
    "train = pd.read_csv('train.csv')\r\n",
    "test = pd.read_csv('test.csv')"
   ],
   "outputs": [],
   "metadata": {}
  },
  {
   "cell_type": "markdown",
   "source": [
    "## Examining the Data\n",
    "\n",
    "* First, we will check the shape of the dataset\n",
    "* Second, we will check the head, tail, and sample of the datasets\n",
    "* Third, we will check the Data Description\n",
    "* Then, we will check the Data Types of the columns present in the data.\n",
    "* Atlast, we will check the Target Class Balance"
   ],
   "metadata": {}
  },
  {
   "cell_type": "code",
   "execution_count": 3,
   "source": [
    "# lets check the shape of the train and test datasets\r\n",
    "print(\"Shape of the Training Data :\", train.shape)\r\n",
    "print(\"Shape of the Test Data :\", test.shape)"
   ],
   "outputs": [
    {
     "output_type": "stream",
     "name": "stdout",
     "text": [
      "Shape of the Training Data : (54808, 14)\n",
      "Shape of the Test Data : (23490, 13)\n"
     ]
    }
   ],
   "metadata": {}
  },
  {
   "cell_type": "code",
   "execution_count": 4,
   "source": [
    "# columns in Training Data\r\n",
    "train.columns"
   ],
   "outputs": [
    {
     "output_type": "execute_result",
     "data": {
      "text/plain": [
       "Index(['employee_id', 'department', 'region', 'education', 'gender',\n",
       "       'recruitment_channel', 'no_of_trainings', 'age', 'previous_year_rating',\n",
       "       'length_of_service', 'KPIs_met >80%', 'awards_won?',\n",
       "       'avg_training_score', 'is_promoted'],\n",
       "      dtype='object')"
      ]
     },
     "metadata": {},
     "execution_count": 4
    }
   ],
   "metadata": {}
  },
  {
   "cell_type": "code",
   "execution_count": 5,
   "source": [
    "# columns in Test Data\r\n",
    "test.columns"
   ],
   "outputs": [
    {
     "output_type": "execute_result",
     "data": {
      "text/plain": [
       "Index(['employee_id', 'department', 'region', 'education', 'gender',\n",
       "       'recruitment_channel', 'no_of_trainings', 'age', 'previous_year_rating',\n",
       "       'length_of_service', 'KPIs_met >80%', 'awards_won?',\n",
       "       'avg_training_score'],\n",
       "      dtype='object')"
      ]
     },
     "metadata": {},
     "execution_count": 5
    }
   ],
   "metadata": {}
  },
  {
   "cell_type": "code",
   "execution_count": 6,
   "source": [
    "# lets check the head of the dataset\r\n",
    "train.head()"
   ],
   "outputs": [
    {
     "output_type": "execute_result",
     "data": {
      "text/plain": [
       "   employee_id         department     region         education gender  \\\n",
       "0        65438  Sales & Marketing   region_7  Master's & above      f   \n",
       "1        65141         Operations  region_22        Bachelor's      m   \n",
       "2         7513  Sales & Marketing  region_19        Bachelor's      m   \n",
       "3         2542  Sales & Marketing  region_23        Bachelor's      m   \n",
       "4        48945         Technology  region_26        Bachelor's      m   \n",
       "\n",
       "  recruitment_channel  no_of_trainings  age  previous_year_rating  \\\n",
       "0            sourcing                1   35                   5.0   \n",
       "1               other                1   30                   5.0   \n",
       "2            sourcing                1   34                   3.0   \n",
       "3               other                2   39                   1.0   \n",
       "4               other                1   45                   3.0   \n",
       "\n",
       "   length_of_service  KPIs_met >80%  awards_won?  avg_training_score  \\\n",
       "0                  8              1            0                  49   \n",
       "1                  4              0            0                  60   \n",
       "2                  7              0            0                  50   \n",
       "3                 10              0            0                  50   \n",
       "4                  2              0            0                  73   \n",
       "\n",
       "   is_promoted  \n",
       "0            0  \n",
       "1            0  \n",
       "2            0  \n",
       "3            0  \n",
       "4            0  "
      ],
      "text/html": [
       "<div>\n",
       "<style scoped>\n",
       "    .dataframe tbody tr th:only-of-type {\n",
       "        vertical-align: middle;\n",
       "    }\n",
       "\n",
       "    .dataframe tbody tr th {\n",
       "        vertical-align: top;\n",
       "    }\n",
       "\n",
       "    .dataframe thead th {\n",
       "        text-align: right;\n",
       "    }\n",
       "</style>\n",
       "<table border=\"1\" class=\"dataframe\">\n",
       "  <thead>\n",
       "    <tr style=\"text-align: right;\">\n",
       "      <th></th>\n",
       "      <th>employee_id</th>\n",
       "      <th>department</th>\n",
       "      <th>region</th>\n",
       "      <th>education</th>\n",
       "      <th>gender</th>\n",
       "      <th>recruitment_channel</th>\n",
       "      <th>no_of_trainings</th>\n",
       "      <th>age</th>\n",
       "      <th>previous_year_rating</th>\n",
       "      <th>length_of_service</th>\n",
       "      <th>KPIs_met &gt;80%</th>\n",
       "      <th>awards_won?</th>\n",
       "      <th>avg_training_score</th>\n",
       "      <th>is_promoted</th>\n",
       "    </tr>\n",
       "  </thead>\n",
       "  <tbody>\n",
       "    <tr>\n",
       "      <th>0</th>\n",
       "      <td>65438</td>\n",
       "      <td>Sales &amp; Marketing</td>\n",
       "      <td>region_7</td>\n",
       "      <td>Master's &amp; above</td>\n",
       "      <td>f</td>\n",
       "      <td>sourcing</td>\n",
       "      <td>1</td>\n",
       "      <td>35</td>\n",
       "      <td>5.0</td>\n",
       "      <td>8</td>\n",
       "      <td>1</td>\n",
       "      <td>0</td>\n",
       "      <td>49</td>\n",
       "      <td>0</td>\n",
       "    </tr>\n",
       "    <tr>\n",
       "      <th>1</th>\n",
       "      <td>65141</td>\n",
       "      <td>Operations</td>\n",
       "      <td>region_22</td>\n",
       "      <td>Bachelor's</td>\n",
       "      <td>m</td>\n",
       "      <td>other</td>\n",
       "      <td>1</td>\n",
       "      <td>30</td>\n",
       "      <td>5.0</td>\n",
       "      <td>4</td>\n",
       "      <td>0</td>\n",
       "      <td>0</td>\n",
       "      <td>60</td>\n",
       "      <td>0</td>\n",
       "    </tr>\n",
       "    <tr>\n",
       "      <th>2</th>\n",
       "      <td>7513</td>\n",
       "      <td>Sales &amp; Marketing</td>\n",
       "      <td>region_19</td>\n",
       "      <td>Bachelor's</td>\n",
       "      <td>m</td>\n",
       "      <td>sourcing</td>\n",
       "      <td>1</td>\n",
       "      <td>34</td>\n",
       "      <td>3.0</td>\n",
       "      <td>7</td>\n",
       "      <td>0</td>\n",
       "      <td>0</td>\n",
       "      <td>50</td>\n",
       "      <td>0</td>\n",
       "    </tr>\n",
       "    <tr>\n",
       "      <th>3</th>\n",
       "      <td>2542</td>\n",
       "      <td>Sales &amp; Marketing</td>\n",
       "      <td>region_23</td>\n",
       "      <td>Bachelor's</td>\n",
       "      <td>m</td>\n",
       "      <td>other</td>\n",
       "      <td>2</td>\n",
       "      <td>39</td>\n",
       "      <td>1.0</td>\n",
       "      <td>10</td>\n",
       "      <td>0</td>\n",
       "      <td>0</td>\n",
       "      <td>50</td>\n",
       "      <td>0</td>\n",
       "    </tr>\n",
       "    <tr>\n",
       "      <th>4</th>\n",
       "      <td>48945</td>\n",
       "      <td>Technology</td>\n",
       "      <td>region_26</td>\n",
       "      <td>Bachelor's</td>\n",
       "      <td>m</td>\n",
       "      <td>other</td>\n",
       "      <td>1</td>\n",
       "      <td>45</td>\n",
       "      <td>3.0</td>\n",
       "      <td>2</td>\n",
       "      <td>0</td>\n",
       "      <td>0</td>\n",
       "      <td>73</td>\n",
       "      <td>0</td>\n",
       "    </tr>\n",
       "  </tbody>\n",
       "</table>\n",
       "</div>"
      ]
     },
     "metadata": {},
     "execution_count": 6
    }
   ],
   "metadata": {}
  },
  {
   "cell_type": "code",
   "execution_count": 7,
   "source": [
    "# lets check the head of the dataset\r\n",
    "test.head()"
   ],
   "outputs": [
    {
     "output_type": "execute_result",
     "data": {
      "text/plain": [
       "   employee_id         department     region   education gender  \\\n",
       "0         8724         Technology  region_26  Bachelor's      m   \n",
       "1        74430                 HR   region_4  Bachelor's      f   \n",
       "2        72255  Sales & Marketing  region_13  Bachelor's      m   \n",
       "3        38562        Procurement   region_2  Bachelor's      f   \n",
       "4        64486            Finance  region_29  Bachelor's      m   \n",
       "\n",
       "  recruitment_channel  no_of_trainings  age  previous_year_rating  \\\n",
       "0            sourcing                1   24                   NaN   \n",
       "1               other                1   31                   3.0   \n",
       "2               other                1   31                   1.0   \n",
       "3               other                3   31                   2.0   \n",
       "4            sourcing                1   30                   4.0   \n",
       "\n",
       "   length_of_service  KPIs_met >80%  awards_won?  avg_training_score  \n",
       "0                  1              1            0                  77  \n",
       "1                  5              0            0                  51  \n",
       "2                  4              0            0                  47  \n",
       "3                  9              0            0                  65  \n",
       "4                  7              0            0                  61  "
      ],
      "text/html": [
       "<div>\n",
       "<style scoped>\n",
       "    .dataframe tbody tr th:only-of-type {\n",
       "        vertical-align: middle;\n",
       "    }\n",
       "\n",
       "    .dataframe tbody tr th {\n",
       "        vertical-align: top;\n",
       "    }\n",
       "\n",
       "    .dataframe thead th {\n",
       "        text-align: right;\n",
       "    }\n",
       "</style>\n",
       "<table border=\"1\" class=\"dataframe\">\n",
       "  <thead>\n",
       "    <tr style=\"text-align: right;\">\n",
       "      <th></th>\n",
       "      <th>employee_id</th>\n",
       "      <th>department</th>\n",
       "      <th>region</th>\n",
       "      <th>education</th>\n",
       "      <th>gender</th>\n",
       "      <th>recruitment_channel</th>\n",
       "      <th>no_of_trainings</th>\n",
       "      <th>age</th>\n",
       "      <th>previous_year_rating</th>\n",
       "      <th>length_of_service</th>\n",
       "      <th>KPIs_met &gt;80%</th>\n",
       "      <th>awards_won?</th>\n",
       "      <th>avg_training_score</th>\n",
       "    </tr>\n",
       "  </thead>\n",
       "  <tbody>\n",
       "    <tr>\n",
       "      <th>0</th>\n",
       "      <td>8724</td>\n",
       "      <td>Technology</td>\n",
       "      <td>region_26</td>\n",
       "      <td>Bachelor's</td>\n",
       "      <td>m</td>\n",
       "      <td>sourcing</td>\n",
       "      <td>1</td>\n",
       "      <td>24</td>\n",
       "      <td>NaN</td>\n",
       "      <td>1</td>\n",
       "      <td>1</td>\n",
       "      <td>0</td>\n",
       "      <td>77</td>\n",
       "    </tr>\n",
       "    <tr>\n",
       "      <th>1</th>\n",
       "      <td>74430</td>\n",
       "      <td>HR</td>\n",
       "      <td>region_4</td>\n",
       "      <td>Bachelor's</td>\n",
       "      <td>f</td>\n",
       "      <td>other</td>\n",
       "      <td>1</td>\n",
       "      <td>31</td>\n",
       "      <td>3.0</td>\n",
       "      <td>5</td>\n",
       "      <td>0</td>\n",
       "      <td>0</td>\n",
       "      <td>51</td>\n",
       "    </tr>\n",
       "    <tr>\n",
       "      <th>2</th>\n",
       "      <td>72255</td>\n",
       "      <td>Sales &amp; Marketing</td>\n",
       "      <td>region_13</td>\n",
       "      <td>Bachelor's</td>\n",
       "      <td>m</td>\n",
       "      <td>other</td>\n",
       "      <td>1</td>\n",
       "      <td>31</td>\n",
       "      <td>1.0</td>\n",
       "      <td>4</td>\n",
       "      <td>0</td>\n",
       "      <td>0</td>\n",
       "      <td>47</td>\n",
       "    </tr>\n",
       "    <tr>\n",
       "      <th>3</th>\n",
       "      <td>38562</td>\n",
       "      <td>Procurement</td>\n",
       "      <td>region_2</td>\n",
       "      <td>Bachelor's</td>\n",
       "      <td>f</td>\n",
       "      <td>other</td>\n",
       "      <td>3</td>\n",
       "      <td>31</td>\n",
       "      <td>2.0</td>\n",
       "      <td>9</td>\n",
       "      <td>0</td>\n",
       "      <td>0</td>\n",
       "      <td>65</td>\n",
       "    </tr>\n",
       "    <tr>\n",
       "      <th>4</th>\n",
       "      <td>64486</td>\n",
       "      <td>Finance</td>\n",
       "      <td>region_29</td>\n",
       "      <td>Bachelor's</td>\n",
       "      <td>m</td>\n",
       "      <td>sourcing</td>\n",
       "      <td>1</td>\n",
       "      <td>30</td>\n",
       "      <td>4.0</td>\n",
       "      <td>7</td>\n",
       "      <td>0</td>\n",
       "      <td>0</td>\n",
       "      <td>61</td>\n",
       "    </tr>\n",
       "  </tbody>\n",
       "</table>\n",
       "</div>"
      ]
     },
     "metadata": {},
     "execution_count": 7
    }
   ],
   "metadata": {}
  },
  {
   "cell_type": "code",
   "execution_count": 8,
   "source": [
    "# check the tail of the dataset\r\n",
    "\r\n",
    "train.tail()"
   ],
   "outputs": [
    {
     "output_type": "execute_result",
     "data": {
      "text/plain": [
       "       employee_id         department     region         education gender  \\\n",
       "54803         3030         Technology  region_14        Bachelor's      m   \n",
       "54804        74592         Operations  region_27  Master's & above      f   \n",
       "54805        13918          Analytics   region_1        Bachelor's      m   \n",
       "54806        13614  Sales & Marketing   region_9               NaN      m   \n",
       "54807        51526                 HR  region_22        Bachelor's      m   \n",
       "\n",
       "      recruitment_channel  no_of_trainings  age  previous_year_rating  \\\n",
       "54803            sourcing                1   48                   3.0   \n",
       "54804               other                1   37                   2.0   \n",
       "54805               other                1   27                   5.0   \n",
       "54806            sourcing                1   29                   1.0   \n",
       "54807               other                1   27                   1.0   \n",
       "\n",
       "       length_of_service  KPIs_met >80%  awards_won?  avg_training_score  \\\n",
       "54803                 17              0            0                  78   \n",
       "54804                  6              0            0                  56   \n",
       "54805                  3              1            0                  79   \n",
       "54806                  2              0            0                  45   \n",
       "54807                  5              0            0                  49   \n",
       "\n",
       "       is_promoted  \n",
       "54803            0  \n",
       "54804            0  \n",
       "54805            0  \n",
       "54806            0  \n",
       "54807            0  "
      ],
      "text/html": [
       "<div>\n",
       "<style scoped>\n",
       "    .dataframe tbody tr th:only-of-type {\n",
       "        vertical-align: middle;\n",
       "    }\n",
       "\n",
       "    .dataframe tbody tr th {\n",
       "        vertical-align: top;\n",
       "    }\n",
       "\n",
       "    .dataframe thead th {\n",
       "        text-align: right;\n",
       "    }\n",
       "</style>\n",
       "<table border=\"1\" class=\"dataframe\">\n",
       "  <thead>\n",
       "    <tr style=\"text-align: right;\">\n",
       "      <th></th>\n",
       "      <th>employee_id</th>\n",
       "      <th>department</th>\n",
       "      <th>region</th>\n",
       "      <th>education</th>\n",
       "      <th>gender</th>\n",
       "      <th>recruitment_channel</th>\n",
       "      <th>no_of_trainings</th>\n",
       "      <th>age</th>\n",
       "      <th>previous_year_rating</th>\n",
       "      <th>length_of_service</th>\n",
       "      <th>KPIs_met &gt;80%</th>\n",
       "      <th>awards_won?</th>\n",
       "      <th>avg_training_score</th>\n",
       "      <th>is_promoted</th>\n",
       "    </tr>\n",
       "  </thead>\n",
       "  <tbody>\n",
       "    <tr>\n",
       "      <th>54803</th>\n",
       "      <td>3030</td>\n",
       "      <td>Technology</td>\n",
       "      <td>region_14</td>\n",
       "      <td>Bachelor's</td>\n",
       "      <td>m</td>\n",
       "      <td>sourcing</td>\n",
       "      <td>1</td>\n",
       "      <td>48</td>\n",
       "      <td>3.0</td>\n",
       "      <td>17</td>\n",
       "      <td>0</td>\n",
       "      <td>0</td>\n",
       "      <td>78</td>\n",
       "      <td>0</td>\n",
       "    </tr>\n",
       "    <tr>\n",
       "      <th>54804</th>\n",
       "      <td>74592</td>\n",
       "      <td>Operations</td>\n",
       "      <td>region_27</td>\n",
       "      <td>Master's &amp; above</td>\n",
       "      <td>f</td>\n",
       "      <td>other</td>\n",
       "      <td>1</td>\n",
       "      <td>37</td>\n",
       "      <td>2.0</td>\n",
       "      <td>6</td>\n",
       "      <td>0</td>\n",
       "      <td>0</td>\n",
       "      <td>56</td>\n",
       "      <td>0</td>\n",
       "    </tr>\n",
       "    <tr>\n",
       "      <th>54805</th>\n",
       "      <td>13918</td>\n",
       "      <td>Analytics</td>\n",
       "      <td>region_1</td>\n",
       "      <td>Bachelor's</td>\n",
       "      <td>m</td>\n",
       "      <td>other</td>\n",
       "      <td>1</td>\n",
       "      <td>27</td>\n",
       "      <td>5.0</td>\n",
       "      <td>3</td>\n",
       "      <td>1</td>\n",
       "      <td>0</td>\n",
       "      <td>79</td>\n",
       "      <td>0</td>\n",
       "    </tr>\n",
       "    <tr>\n",
       "      <th>54806</th>\n",
       "      <td>13614</td>\n",
       "      <td>Sales &amp; Marketing</td>\n",
       "      <td>region_9</td>\n",
       "      <td>NaN</td>\n",
       "      <td>m</td>\n",
       "      <td>sourcing</td>\n",
       "      <td>1</td>\n",
       "      <td>29</td>\n",
       "      <td>1.0</td>\n",
       "      <td>2</td>\n",
       "      <td>0</td>\n",
       "      <td>0</td>\n",
       "      <td>45</td>\n",
       "      <td>0</td>\n",
       "    </tr>\n",
       "    <tr>\n",
       "      <th>54807</th>\n",
       "      <td>51526</td>\n",
       "      <td>HR</td>\n",
       "      <td>region_22</td>\n",
       "      <td>Bachelor's</td>\n",
       "      <td>m</td>\n",
       "      <td>other</td>\n",
       "      <td>1</td>\n",
       "      <td>27</td>\n",
       "      <td>1.0</td>\n",
       "      <td>5</td>\n",
       "      <td>0</td>\n",
       "      <td>0</td>\n",
       "      <td>49</td>\n",
       "      <td>0</td>\n",
       "    </tr>\n",
       "  </tbody>\n",
       "</table>\n",
       "</div>"
      ]
     },
     "metadata": {},
     "execution_count": 8
    }
   ],
   "metadata": {}
  },
  {
   "cell_type": "code",
   "execution_count": 9,
   "source": [
    "# check the tail of the dataset\r\n",
    "\r\n",
    "test.tail()"
   ],
   "outputs": [
    {
     "output_type": "execute_result",
     "data": {
      "text/plain": [
       "       employee_id   department     region         education gender  \\\n",
       "23485        53478        Legal   region_2   Below Secondary      m   \n",
       "23486        25600   Technology  region_25        Bachelor's      m   \n",
       "23487        45409           HR  region_16        Bachelor's      f   \n",
       "23488         1186  Procurement  region_31        Bachelor's      m   \n",
       "23489         5973   Technology  region_17  Master's & above      m   \n",
       "\n",
       "      recruitment_channel  no_of_trainings  age  previous_year_rating  \\\n",
       "23485            sourcing                1   24                   3.0   \n",
       "23486            sourcing                1   31                   3.0   \n",
       "23487            sourcing                1   26                   4.0   \n",
       "23488            sourcing                3   27                   NaN   \n",
       "23489               other                3   40                   5.0   \n",
       "\n",
       "       length_of_service  KPIs_met >80%  awards_won?  avg_training_score  \n",
       "23485                  1              0            0                  61  \n",
       "23486                  7              0            0                  74  \n",
       "23487                  4              0            0                  50  \n",
       "23488                  1              0            0                  70  \n",
       "23489                  5              1            0                  89  "
      ],
      "text/html": [
       "<div>\n",
       "<style scoped>\n",
       "    .dataframe tbody tr th:only-of-type {\n",
       "        vertical-align: middle;\n",
       "    }\n",
       "\n",
       "    .dataframe tbody tr th {\n",
       "        vertical-align: top;\n",
       "    }\n",
       "\n",
       "    .dataframe thead th {\n",
       "        text-align: right;\n",
       "    }\n",
       "</style>\n",
       "<table border=\"1\" class=\"dataframe\">\n",
       "  <thead>\n",
       "    <tr style=\"text-align: right;\">\n",
       "      <th></th>\n",
       "      <th>employee_id</th>\n",
       "      <th>department</th>\n",
       "      <th>region</th>\n",
       "      <th>education</th>\n",
       "      <th>gender</th>\n",
       "      <th>recruitment_channel</th>\n",
       "      <th>no_of_trainings</th>\n",
       "      <th>age</th>\n",
       "      <th>previous_year_rating</th>\n",
       "      <th>length_of_service</th>\n",
       "      <th>KPIs_met &gt;80%</th>\n",
       "      <th>awards_won?</th>\n",
       "      <th>avg_training_score</th>\n",
       "    </tr>\n",
       "  </thead>\n",
       "  <tbody>\n",
       "    <tr>\n",
       "      <th>23485</th>\n",
       "      <td>53478</td>\n",
       "      <td>Legal</td>\n",
       "      <td>region_2</td>\n",
       "      <td>Below Secondary</td>\n",
       "      <td>m</td>\n",
       "      <td>sourcing</td>\n",
       "      <td>1</td>\n",
       "      <td>24</td>\n",
       "      <td>3.0</td>\n",
       "      <td>1</td>\n",
       "      <td>0</td>\n",
       "      <td>0</td>\n",
       "      <td>61</td>\n",
       "    </tr>\n",
       "    <tr>\n",
       "      <th>23486</th>\n",
       "      <td>25600</td>\n",
       "      <td>Technology</td>\n",
       "      <td>region_25</td>\n",
       "      <td>Bachelor's</td>\n",
       "      <td>m</td>\n",
       "      <td>sourcing</td>\n",
       "      <td>1</td>\n",
       "      <td>31</td>\n",
       "      <td>3.0</td>\n",
       "      <td>7</td>\n",
       "      <td>0</td>\n",
       "      <td>0</td>\n",
       "      <td>74</td>\n",
       "    </tr>\n",
       "    <tr>\n",
       "      <th>23487</th>\n",
       "      <td>45409</td>\n",
       "      <td>HR</td>\n",
       "      <td>region_16</td>\n",
       "      <td>Bachelor's</td>\n",
       "      <td>f</td>\n",
       "      <td>sourcing</td>\n",
       "      <td>1</td>\n",
       "      <td>26</td>\n",
       "      <td>4.0</td>\n",
       "      <td>4</td>\n",
       "      <td>0</td>\n",
       "      <td>0</td>\n",
       "      <td>50</td>\n",
       "    </tr>\n",
       "    <tr>\n",
       "      <th>23488</th>\n",
       "      <td>1186</td>\n",
       "      <td>Procurement</td>\n",
       "      <td>region_31</td>\n",
       "      <td>Bachelor's</td>\n",
       "      <td>m</td>\n",
       "      <td>sourcing</td>\n",
       "      <td>3</td>\n",
       "      <td>27</td>\n",
       "      <td>NaN</td>\n",
       "      <td>1</td>\n",
       "      <td>0</td>\n",
       "      <td>0</td>\n",
       "      <td>70</td>\n",
       "    </tr>\n",
       "    <tr>\n",
       "      <th>23489</th>\n",
       "      <td>5973</td>\n",
       "      <td>Technology</td>\n",
       "      <td>region_17</td>\n",
       "      <td>Master's &amp; above</td>\n",
       "      <td>m</td>\n",
       "      <td>other</td>\n",
       "      <td>3</td>\n",
       "      <td>40</td>\n",
       "      <td>5.0</td>\n",
       "      <td>5</td>\n",
       "      <td>1</td>\n",
       "      <td>0</td>\n",
       "      <td>89</td>\n",
       "    </tr>\n",
       "  </tbody>\n",
       "</table>\n",
       "</div>"
      ]
     },
     "metadata": {},
     "execution_count": 9
    }
   ],
   "metadata": {}
  },
  {
   "cell_type": "markdown",
   "source": [
    "## <center><b>Data Description</b></center>\n",
    "\n",
    "<table>\n",
    "    <tr>\n",
    "        <td><b>Variable</b></td>\n",
    "        <td><b>Definition</b></td>\n",
    "    </tr>\n",
    "    <tr>\n",
    "        <td>employee_id</td>\n",
    "        <td>Unique ID<td>\n",
    "    </tr>\n",
    "    <tr>\n",
    "        <td>department</td>\n",
    "        <td>Department of employee</td>\n",
    "    </tr>\n",
    "    <tr>\n",
    "        <td>region</td>\n",
    "        <td>Region of employment (unordered)</td>\n",
    "    </tr>\n",
    "    <tr>\n",
    "        <td>education</td>\n",
    "        <td>Education Level</td>\n",
    "    </tr>\n",
    "    <tr>\n",
    "        <td>gender</td>\n",
    "        <td>Gender of Employee</td>\n",
    "    </tr>\n",
    "    <tr>\n",
    "        <td>recruitment_channel</td>\n",
    "        <td>Channel of recruitment for employee</td>\n",
    "    </tr>\n",
    "    <tr>\n",
    "        <td>no_of_trainings</td>\n",
    "        <td>no of other trainings completed in previous year on soft skills, technical skills etc.</td>\n",
    "    </tr>\n",
    "    <tr>\n",
    "        <td>age</td>\n",
    "        <td>Age of Employee</td>\n",
    "    </tr>\n",
    "    <tr>\n",
    "        <td>previous_year_rating</td>\n",
    "        <td>Employee Rating for the previous year</td>\n",
    "    </tr>\n",
    "    <tr>\n",
    "        <td>length_of_service</td>\n",
    "        <td>Length of service in years</td>\n",
    "    </tr>\n",
    "    <tr>\n",
    "        <td>KPIs_met >80%</td>\n",
    "        <td>if Percent of KPIs(Key performance Indicators) >80% then 1 else 0</td>\n",
    "    </tr>\n",
    "    <tr>\n",
    "        <td>awards_won?</td>\n",
    "        <td>if awards won during previous year then 1 else 0</td>\n",
    "    </tr>\n",
    "    <tr>\n",
    "        <td>avg_training_score</td>\n",
    "        <td>Average score in current training evaluations</td>\n",
    "    </tr>\n",
    "    <tr>\n",
    "        <td>is_promoted\t(Target)</td>\n",
    "        <td>Recommended for promotion</td>\n",
    "    </tr>\n",
    "</table>"
   ],
   "metadata": {}
  },
  {
   "cell_type": "code",
   "execution_count": 10,
   "source": [
    "# values in Departments\r\n",
    "\r\n",
    "train['department'].value_counts()"
   ],
   "outputs": [
    {
     "output_type": "execute_result",
     "data": {
      "text/plain": [
       "Sales & Marketing    16840\n",
       "Operations           11348\n",
       "Technology            7138\n",
       "Procurement           7138\n",
       "Analytics             5352\n",
       "Finance               2536\n",
       "HR                    2418\n",
       "Legal                 1039\n",
       "R&D                    999\n",
       "Name: department, dtype: int64"
      ]
     },
     "metadata": {},
     "execution_count": 10
    }
   ],
   "metadata": {}
  },
  {
   "cell_type": "code",
   "execution_count": 11,
   "source": [
    "# values in Region\r\n",
    "\r\n",
    "train['region'].value_counts()"
   ],
   "outputs": [
    {
     "output_type": "execute_result",
     "data": {
      "text/plain": [
       "region_2     12343\n",
       "region_22     6428\n",
       "region_7      4843\n",
       "region_15     2808\n",
       "region_13     2648\n",
       "region_26     2260\n",
       "region_31     1935\n",
       "region_4      1703\n",
       "region_27     1659\n",
       "region_16     1465\n",
       "region_28     1318\n",
       "region_11     1315\n",
       "region_23     1175\n",
       "region_29      994\n",
       "region_32      945\n",
       "region_19      874\n",
       "region_20      850\n",
       "region_14      827\n",
       "region_25      819\n",
       "region_17      796\n",
       "region_5       766\n",
       "region_6       690\n",
       "region_30      657\n",
       "region_8       655\n",
       "region_10      648\n",
       "region_1       610\n",
       "region_24      508\n",
       "region_12      500\n",
       "region_9       420\n",
       "region_21      411\n",
       "region_3       346\n",
       "region_34      292\n",
       "region_33      269\n",
       "region_18       31\n",
       "Name: region, dtype: int64"
      ]
     },
     "metadata": {},
     "execution_count": 11
    }
   ],
   "metadata": {}
  },
  {
   "cell_type": "markdown",
   "source": [
    "# Discriptive Stats"
   ],
   "metadata": {}
  },
  {
   "cell_type": "code",
   "execution_count": 12,
   "source": [
    "# check descriptive statistics for numerical columns\r\n",
    "train.describe().style.background_gradient(cmap = 'PuBuGn')"
   ],
   "outputs": [
    {
     "output_type": "execute_result",
     "data": {
      "text/plain": [
       "<pandas.io.formats.style.Styler at 0x16aeb85f280>"
      ],
      "text/html": [
       "<style type=\"text/css\">\n",
       "#T_9c01d_row0_col0 {\n",
       "  background-color: #16879f;\n",
       "  color: #f1f1f1;\n",
       "}\n",
       "#T_9c01d_row0_col1, #T_9c01d_row0_col2, #T_9c01d_row0_col3, #T_9c01d_row0_col4, #T_9c01d_row0_col5, #T_9c01d_row0_col6, #T_9c01d_row0_col7, #T_9c01d_row0_col8, #T_9c01d_row7_col0 {\n",
       "  background-color: #014636;\n",
       "  color: #f1f1f1;\n",
       "}\n",
       "#T_9c01d_row1_col0, #T_9c01d_row5_col0 {\n",
       "  background-color: #66a9cf;\n",
       "  color: #f1f1f1;\n",
       "}\n",
       "#T_9c01d_row1_col1, #T_9c01d_row1_col2, #T_9c01d_row1_col3, #T_9c01d_row1_col4, #T_9c01d_row1_col5, #T_9c01d_row1_col6, #T_9c01d_row1_col7, #T_9c01d_row1_col8, #T_9c01d_row2_col1, #T_9c01d_row2_col2, #T_9c01d_row2_col3, #T_9c01d_row2_col4, #T_9c01d_row2_col5, #T_9c01d_row2_col6, #T_9c01d_row2_col7, #T_9c01d_row2_col8, #T_9c01d_row3_col0, #T_9c01d_row3_col1, #T_9c01d_row3_col2, #T_9c01d_row3_col3, #T_9c01d_row3_col4, #T_9c01d_row3_col5, #T_9c01d_row3_col6, #T_9c01d_row3_col7, #T_9c01d_row3_col8, #T_9c01d_row4_col1, #T_9c01d_row4_col2, #T_9c01d_row4_col3, #T_9c01d_row4_col4, #T_9c01d_row4_col5, #T_9c01d_row4_col6, #T_9c01d_row4_col7, #T_9c01d_row4_col8, #T_9c01d_row5_col1, #T_9c01d_row5_col2, #T_9c01d_row5_col3, #T_9c01d_row5_col4, #T_9c01d_row5_col5, #T_9c01d_row5_col6, #T_9c01d_row5_col7, #T_9c01d_row5_col8, #T_9c01d_row6_col1, #T_9c01d_row6_col2, #T_9c01d_row6_col3, #T_9c01d_row6_col4, #T_9c01d_row6_col5, #T_9c01d_row6_col6, #T_9c01d_row6_col7, #T_9c01d_row6_col8, #T_9c01d_row7_col1, #T_9c01d_row7_col2, #T_9c01d_row7_col3, #T_9c01d_row7_col4, #T_9c01d_row7_col5, #T_9c01d_row7_col6, #T_9c01d_row7_col7, #T_9c01d_row7_col8 {\n",
       "  background-color: #fff7fb;\n",
       "  color: #000000;\n",
       "}\n",
       "#T_9c01d_row2_col0 {\n",
       "  background-color: #c4cbe3;\n",
       "  color: #000000;\n",
       "}\n",
       "#T_9c01d_row4_col0 {\n",
       "  background-color: #d0d1e6;\n",
       "  color: #000000;\n",
       "}\n",
       "#T_9c01d_row6_col0 {\n",
       "  background-color: #028189;\n",
       "  color: #f1f1f1;\n",
       "}\n",
       "</style>\n",
       "<table id=\"T_9c01d_\">\n",
       "  <thead>\n",
       "    <tr>\n",
       "      <th class=\"blank level0\" >&nbsp;</th>\n",
       "      <th class=\"col_heading level0 col0\" >employee_id</th>\n",
       "      <th class=\"col_heading level0 col1\" >no_of_trainings</th>\n",
       "      <th class=\"col_heading level0 col2\" >age</th>\n",
       "      <th class=\"col_heading level0 col3\" >previous_year_rating</th>\n",
       "      <th class=\"col_heading level0 col4\" >length_of_service</th>\n",
       "      <th class=\"col_heading level0 col5\" >KPIs_met >80%</th>\n",
       "      <th class=\"col_heading level0 col6\" >awards_won?</th>\n",
       "      <th class=\"col_heading level0 col7\" >avg_training_score</th>\n",
       "      <th class=\"col_heading level0 col8\" >is_promoted</th>\n",
       "    </tr>\n",
       "  </thead>\n",
       "  <tbody>\n",
       "    <tr>\n",
       "      <th id=\"T_9c01d_level0_row0\" class=\"row_heading level0 row0\" >count</th>\n",
       "      <td id=\"T_9c01d_row0_col0\" class=\"data row0 col0\" >54808.000000</td>\n",
       "      <td id=\"T_9c01d_row0_col1\" class=\"data row0 col1\" >54808.000000</td>\n",
       "      <td id=\"T_9c01d_row0_col2\" class=\"data row0 col2\" >54808.000000</td>\n",
       "      <td id=\"T_9c01d_row0_col3\" class=\"data row0 col3\" >50684.000000</td>\n",
       "      <td id=\"T_9c01d_row0_col4\" class=\"data row0 col4\" >54808.000000</td>\n",
       "      <td id=\"T_9c01d_row0_col5\" class=\"data row0 col5\" >54808.000000</td>\n",
       "      <td id=\"T_9c01d_row0_col6\" class=\"data row0 col6\" >54808.000000</td>\n",
       "      <td id=\"T_9c01d_row0_col7\" class=\"data row0 col7\" >54808.000000</td>\n",
       "      <td id=\"T_9c01d_row0_col8\" class=\"data row0 col8\" >54808.000000</td>\n",
       "    </tr>\n",
       "    <tr>\n",
       "      <th id=\"T_9c01d_level0_row1\" class=\"row_heading level0 row1\" >mean</th>\n",
       "      <td id=\"T_9c01d_row1_col0\" class=\"data row1 col0\" >39195.830627</td>\n",
       "      <td id=\"T_9c01d_row1_col1\" class=\"data row1 col1\" >1.253011</td>\n",
       "      <td id=\"T_9c01d_row1_col2\" class=\"data row1 col2\" >34.803915</td>\n",
       "      <td id=\"T_9c01d_row1_col3\" class=\"data row1 col3\" >3.329256</td>\n",
       "      <td id=\"T_9c01d_row1_col4\" class=\"data row1 col4\" >5.865512</td>\n",
       "      <td id=\"T_9c01d_row1_col5\" class=\"data row1 col5\" >0.351974</td>\n",
       "      <td id=\"T_9c01d_row1_col6\" class=\"data row1 col6\" >0.023172</td>\n",
       "      <td id=\"T_9c01d_row1_col7\" class=\"data row1 col7\" >63.386750</td>\n",
       "      <td id=\"T_9c01d_row1_col8\" class=\"data row1 col8\" >0.085170</td>\n",
       "    </tr>\n",
       "    <tr>\n",
       "      <th id=\"T_9c01d_level0_row2\" class=\"row_heading level0 row2\" >std</th>\n",
       "      <td id=\"T_9c01d_row2_col0\" class=\"data row2 col0\" >22586.581449</td>\n",
       "      <td id=\"T_9c01d_row2_col1\" class=\"data row2 col1\" >0.609264</td>\n",
       "      <td id=\"T_9c01d_row2_col2\" class=\"data row2 col2\" >7.660169</td>\n",
       "      <td id=\"T_9c01d_row2_col3\" class=\"data row2 col3\" >1.259993</td>\n",
       "      <td id=\"T_9c01d_row2_col4\" class=\"data row2 col4\" >4.265094</td>\n",
       "      <td id=\"T_9c01d_row2_col5\" class=\"data row2 col5\" >0.477590</td>\n",
       "      <td id=\"T_9c01d_row2_col6\" class=\"data row2 col6\" >0.150450</td>\n",
       "      <td id=\"T_9c01d_row2_col7\" class=\"data row2 col7\" >13.371559</td>\n",
       "      <td id=\"T_9c01d_row2_col8\" class=\"data row2 col8\" >0.279137</td>\n",
       "    </tr>\n",
       "    <tr>\n",
       "      <th id=\"T_9c01d_level0_row3\" class=\"row_heading level0 row3\" >min</th>\n",
       "      <td id=\"T_9c01d_row3_col0\" class=\"data row3 col0\" >1.000000</td>\n",
       "      <td id=\"T_9c01d_row3_col1\" class=\"data row3 col1\" >1.000000</td>\n",
       "      <td id=\"T_9c01d_row3_col2\" class=\"data row3 col2\" >20.000000</td>\n",
       "      <td id=\"T_9c01d_row3_col3\" class=\"data row3 col3\" >1.000000</td>\n",
       "      <td id=\"T_9c01d_row3_col4\" class=\"data row3 col4\" >1.000000</td>\n",
       "      <td id=\"T_9c01d_row3_col5\" class=\"data row3 col5\" >0.000000</td>\n",
       "      <td id=\"T_9c01d_row3_col6\" class=\"data row3 col6\" >0.000000</td>\n",
       "      <td id=\"T_9c01d_row3_col7\" class=\"data row3 col7\" >39.000000</td>\n",
       "      <td id=\"T_9c01d_row3_col8\" class=\"data row3 col8\" >0.000000</td>\n",
       "    </tr>\n",
       "    <tr>\n",
       "      <th id=\"T_9c01d_level0_row4\" class=\"row_heading level0 row4\" >25%</th>\n",
       "      <td id=\"T_9c01d_row4_col0\" class=\"data row4 col0\" >19669.750000</td>\n",
       "      <td id=\"T_9c01d_row4_col1\" class=\"data row4 col1\" >1.000000</td>\n",
       "      <td id=\"T_9c01d_row4_col2\" class=\"data row4 col2\" >29.000000</td>\n",
       "      <td id=\"T_9c01d_row4_col3\" class=\"data row4 col3\" >3.000000</td>\n",
       "      <td id=\"T_9c01d_row4_col4\" class=\"data row4 col4\" >3.000000</td>\n",
       "      <td id=\"T_9c01d_row4_col5\" class=\"data row4 col5\" >0.000000</td>\n",
       "      <td id=\"T_9c01d_row4_col6\" class=\"data row4 col6\" >0.000000</td>\n",
       "      <td id=\"T_9c01d_row4_col7\" class=\"data row4 col7\" >51.000000</td>\n",
       "      <td id=\"T_9c01d_row4_col8\" class=\"data row4 col8\" >0.000000</td>\n",
       "    </tr>\n",
       "    <tr>\n",
       "      <th id=\"T_9c01d_level0_row5\" class=\"row_heading level0 row5\" >50%</th>\n",
       "      <td id=\"T_9c01d_row5_col0\" class=\"data row5 col0\" >39225.500000</td>\n",
       "      <td id=\"T_9c01d_row5_col1\" class=\"data row5 col1\" >1.000000</td>\n",
       "      <td id=\"T_9c01d_row5_col2\" class=\"data row5 col2\" >33.000000</td>\n",
       "      <td id=\"T_9c01d_row5_col3\" class=\"data row5 col3\" >3.000000</td>\n",
       "      <td id=\"T_9c01d_row5_col4\" class=\"data row5 col4\" >5.000000</td>\n",
       "      <td id=\"T_9c01d_row5_col5\" class=\"data row5 col5\" >0.000000</td>\n",
       "      <td id=\"T_9c01d_row5_col6\" class=\"data row5 col6\" >0.000000</td>\n",
       "      <td id=\"T_9c01d_row5_col7\" class=\"data row5 col7\" >60.000000</td>\n",
       "      <td id=\"T_9c01d_row5_col8\" class=\"data row5 col8\" >0.000000</td>\n",
       "    </tr>\n",
       "    <tr>\n",
       "      <th id=\"T_9c01d_level0_row6\" class=\"row_heading level0 row6\" >75%</th>\n",
       "      <td id=\"T_9c01d_row6_col0\" class=\"data row6 col0\" >58730.500000</td>\n",
       "      <td id=\"T_9c01d_row6_col1\" class=\"data row6 col1\" >1.000000</td>\n",
       "      <td id=\"T_9c01d_row6_col2\" class=\"data row6 col2\" >39.000000</td>\n",
       "      <td id=\"T_9c01d_row6_col3\" class=\"data row6 col3\" >4.000000</td>\n",
       "      <td id=\"T_9c01d_row6_col4\" class=\"data row6 col4\" >7.000000</td>\n",
       "      <td id=\"T_9c01d_row6_col5\" class=\"data row6 col5\" >1.000000</td>\n",
       "      <td id=\"T_9c01d_row6_col6\" class=\"data row6 col6\" >0.000000</td>\n",
       "      <td id=\"T_9c01d_row6_col7\" class=\"data row6 col7\" >76.000000</td>\n",
       "      <td id=\"T_9c01d_row6_col8\" class=\"data row6 col8\" >0.000000</td>\n",
       "    </tr>\n",
       "    <tr>\n",
       "      <th id=\"T_9c01d_level0_row7\" class=\"row_heading level0 row7\" >max</th>\n",
       "      <td id=\"T_9c01d_row7_col0\" class=\"data row7 col0\" >78298.000000</td>\n",
       "      <td id=\"T_9c01d_row7_col1\" class=\"data row7 col1\" >10.000000</td>\n",
       "      <td id=\"T_9c01d_row7_col2\" class=\"data row7 col2\" >60.000000</td>\n",
       "      <td id=\"T_9c01d_row7_col3\" class=\"data row7 col3\" >5.000000</td>\n",
       "      <td id=\"T_9c01d_row7_col4\" class=\"data row7 col4\" >37.000000</td>\n",
       "      <td id=\"T_9c01d_row7_col5\" class=\"data row7 col5\" >1.000000</td>\n",
       "      <td id=\"T_9c01d_row7_col6\" class=\"data row7 col6\" >1.000000</td>\n",
       "      <td id=\"T_9c01d_row7_col7\" class=\"data row7 col7\" >99.000000</td>\n",
       "      <td id=\"T_9c01d_row7_col8\" class=\"data row7 col8\" >1.000000</td>\n",
       "    </tr>\n",
       "  </tbody>\n",
       "</table>\n"
      ]
     },
     "metadata": {},
     "execution_count": 12
    }
   ],
   "metadata": {}
  },
  {
   "cell_type": "markdown",
   "source": [
    "# Outliers\n",
    "\n",
    "### Data is quite uniform and thus has negated the outliers."
   ],
   "metadata": {}
  },
  {
   "cell_type": "code",
   "execution_count": 13,
   "source": [
    "# check descriptive statistics for categorical columns\r\n",
    "train.describe(include = 'object')"
   ],
   "outputs": [
    {
     "output_type": "execute_result",
     "data": {
      "text/plain": [
       "               department    region   education gender recruitment_channel\n",
       "count               54808     54808       52399  54808               54808\n",
       "unique                  9        34           3      2                   3\n",
       "top     Sales & Marketing  region_2  Bachelor's      m               other\n",
       "freq                16840     12343       36669  38496               30446"
      ],
      "text/html": [
       "<div>\n",
       "<style scoped>\n",
       "    .dataframe tbody tr th:only-of-type {\n",
       "        vertical-align: middle;\n",
       "    }\n",
       "\n",
       "    .dataframe tbody tr th {\n",
       "        vertical-align: top;\n",
       "    }\n",
       "\n",
       "    .dataframe thead th {\n",
       "        text-align: right;\n",
       "    }\n",
       "</style>\n",
       "<table border=\"1\" class=\"dataframe\">\n",
       "  <thead>\n",
       "    <tr style=\"text-align: right;\">\n",
       "      <th></th>\n",
       "      <th>department</th>\n",
       "      <th>region</th>\n",
       "      <th>education</th>\n",
       "      <th>gender</th>\n",
       "      <th>recruitment_channel</th>\n",
       "    </tr>\n",
       "  </thead>\n",
       "  <tbody>\n",
       "    <tr>\n",
       "      <th>count</th>\n",
       "      <td>54808</td>\n",
       "      <td>54808</td>\n",
       "      <td>52399</td>\n",
       "      <td>54808</td>\n",
       "      <td>54808</td>\n",
       "    </tr>\n",
       "    <tr>\n",
       "      <th>unique</th>\n",
       "      <td>9</td>\n",
       "      <td>34</td>\n",
       "      <td>3</td>\n",
       "      <td>2</td>\n",
       "      <td>3</td>\n",
       "    </tr>\n",
       "    <tr>\n",
       "      <th>top</th>\n",
       "      <td>Sales &amp; Marketing</td>\n",
       "      <td>region_2</td>\n",
       "      <td>Bachelor's</td>\n",
       "      <td>m</td>\n",
       "      <td>other</td>\n",
       "    </tr>\n",
       "    <tr>\n",
       "      <th>freq</th>\n",
       "      <td>16840</td>\n",
       "      <td>12343</td>\n",
       "      <td>36669</td>\n",
       "      <td>38496</td>\n",
       "      <td>30446</td>\n",
       "    </tr>\n",
       "  </tbody>\n",
       "</table>\n",
       "</div>"
      ]
     },
     "metadata": {},
     "execution_count": 13
    }
   ],
   "metadata": {}
  },
  {
   "cell_type": "code",
   "execution_count": 14,
   "source": [
    "# check the Target Class Balance\r\n",
    "\r\n",
    "plt.rcParams['figure.figsize'] = (15, 5)\r\n",
    "plt.style.use('seaborn-whitegrid')\r\n",
    "\r\n",
    "plt.subplot(1, 2, 1)\r\n",
    "sns.countplot(train['is_promoted'],)\r\n",
    "\r\n",
    "plt.xlabel('Promoted or Not?', fontsize = 10)\r\n",
    "\r\n",
    "plt.subplot(1, 2, 2)\r\n",
    "train['is_promoted'].value_counts().plot(kind = 'pie', explode = [0, 0.1], autopct = '%.2f%%', startangle = 90,\r\n",
    "                                       labels = ['1','0'], shadow = True, pctdistance = 0.5)\r\n",
    "plt.axis('off')\r\n",
    "\r\n",
    "plt.suptitle('Target Class Balance', fontsize = 15)\r\n",
    "plt.show()"
   ],
   "outputs": [
    {
     "output_type": "stream",
     "name": "stderr",
     "text": [
      "C:\\Users\\sks4u\\AppData\\Local\\Programs\\Python\\Python39\\lib\\site-packages\\seaborn\\_decorators.py:36: FutureWarning: Pass the following variable as a keyword arg: x. From version 0.12, the only valid positional argument will be `data`, and passing other arguments without an explicit keyword will result in an error or misinterpretation.\n",
      "  warnings.warn(\n"
     ]
    },
    {
     "output_type": "display_data",
     "data": {
      "text/plain": [
       "<Figure size 1080x360 with 2 Axes>"
      ],
      "image/png": "[encoded data removed]"
     },
     "metadata": {}
    }
   ],
   "metadata": {}
  },
  {
   "cell_type": "markdown",
   "source": [
    "### Target Class is Highly Imbalanced.\n",
    "### We must balance these classes of Target Class. "
   ],
   "metadata": {}
  },
  {
   "cell_type": "markdown",
   "source": [
    "# Treatment of missing values"
   ],
   "metadata": {}
  },
  {
   "cell_type": "code",
   "execution_count": 15,
   "source": [
    "# missing values in training data set\r\n",
    "\r\n",
    "# calculate the total missing values in the dataset\r\n",
    "train_total = train.isnull().sum()\r\n",
    "\r\n",
    "# calculate the percentage of missing values in the dataset\r\n",
    "train_percent = ((train.isnull().sum()/train.shape[0])*100).round(2)\r\n",
    "\r\n",
    "# calculate the total missing values in the dataset\r\n",
    "test_total = test.isnull().sum()\r\n",
    "\r\n",
    "# calculate the percentage of missing values in the dataset\r\n",
    "test_percent = ((test.isnull().sum()/test.shape[0])*100).round(2)\r\n",
    "\r\n",
    "# make a dataset consisting of total no. of missing values and percentage of missing values in the dataset\r\n",
    "train_missing_data = pd.concat([train_total, train_percent, test_total, test_percent],\r\n",
    "                                axis=1, \r\n",
    "                                keys=['Train_Total', 'Train_Percent %','Test_Total', 'Test_Percent %'],\r\n",
    "                                sort = True)\r\n",
    "\r\n",
    "# lets check the head\r\n",
    "train_missing_data.style.bar(color = ['black'])"
   ],
   "outputs": [
    {
     "output_type": "execute_result",
     "data": {
      "text/plain": [
       "<pandas.io.formats.style.Styler at 0x16abf7eae80>"
      ],
      "text/html": [
       "<style type=\"text/css\">\n",
       "#T_b4ad9_row0_col0, #T_b4ad9_row0_col1, #T_b4ad9_row0_col2, #T_b4ad9_row0_col3, #T_b4ad9_row1_col0, #T_b4ad9_row1_col1, #T_b4ad9_row1_col2, #T_b4ad9_row1_col3, #T_b4ad9_row2_col0, #T_b4ad9_row2_col1, #T_b4ad9_row2_col2, #T_b4ad9_row2_col3, #T_b4ad9_row3_col0, #T_b4ad9_row3_col1, #T_b4ad9_row3_col2, #T_b4ad9_row3_col3, #T_b4ad9_row4_col0, #T_b4ad9_row4_col1, #T_b4ad9_row4_col2, #T_b4ad9_row4_col3, #T_b4ad9_row6_col0, #T_b4ad9_row6_col1, #T_b4ad9_row6_col2, #T_b4ad9_row6_col3, #T_b4ad9_row7_col0, #T_b4ad9_row7_col1, #T_b4ad9_row7_col2, #T_b4ad9_row7_col3, #T_b4ad9_row8_col0, #T_b4ad9_row8_col1, #T_b4ad9_row9_col0, #T_b4ad9_row9_col1, #T_b4ad9_row9_col2, #T_b4ad9_row9_col3, #T_b4ad9_row10_col0, #T_b4ad9_row10_col1, #T_b4ad9_row10_col2, #T_b4ad9_row10_col3, #T_b4ad9_row12_col0, #T_b4ad9_row12_col1, #T_b4ad9_row12_col2, #T_b4ad9_row12_col3, #T_b4ad9_row13_col0, #T_b4ad9_row13_col1, #T_b4ad9_row13_col2, #T_b4ad9_row13_col3 {\n",
       "  width: 10em;\n",
       "  height: 80%;\n",
       "}\n",
       "#T_b4ad9_row5_col0 {\n",
       "  width: 10em;\n",
       "  height: 80%;\n",
       "  background: linear-gradient(90deg,black 58.4%, transparent 58.4%);\n",
       "}\n",
       "#T_b4ad9_row5_col1 {\n",
       "  width: 10em;\n",
       "  height: 80%;\n",
       "  background: linear-gradient(90deg,black 58.5%, transparent 58.5%);\n",
       "}\n",
       "#T_b4ad9_row5_col2, #T_b4ad9_row5_col3 {\n",
       "  width: 10em;\n",
       "  height: 80%;\n",
       "  background: linear-gradient(90deg,black 57.1%, transparent 57.1%);\n",
       "}\n",
       "#T_b4ad9_row11_col0, #T_b4ad9_row11_col1, #T_b4ad9_row11_col2, #T_b4ad9_row11_col3 {\n",
       "  width: 10em;\n",
       "  height: 80%;\n",
       "  background: linear-gradient(90deg,black 100.0%, transparent 100.0%);\n",
       "}\n",
       "</style>\n",
       "<table id=\"T_b4ad9_\">\n",
       "  <thead>\n",
       "    <tr>\n",
       "      <th class=\"blank level0\" >&nbsp;</th>\n",
       "      <th class=\"col_heading level0 col0\" >Train_Total</th>\n",
       "      <th class=\"col_heading level0 col1\" >Train_Percent %</th>\n",
       "      <th class=\"col_heading level0 col2\" >Test_Total</th>\n",
       "      <th class=\"col_heading level0 col3\" >Test_Percent %</th>\n",
       "    </tr>\n",
       "  </thead>\n",
       "  <tbody>\n",
       "    <tr>\n",
       "      <th id=\"T_b4ad9_level0_row0\" class=\"row_heading level0 row0\" >KPIs_met >80%</th>\n",
       "      <td id=\"T_b4ad9_row0_col0\" class=\"data row0 col0\" >0</td>\n",
       "      <td id=\"T_b4ad9_row0_col1\" class=\"data row0 col1\" >0.000000</td>\n",
       "      <td id=\"T_b4ad9_row0_col2\" class=\"data row0 col2\" >0.000000</td>\n",
       "      <td id=\"T_b4ad9_row0_col3\" class=\"data row0 col3\" >0.000000</td>\n",
       "    </tr>\n",
       "    <tr>\n",
       "      <th id=\"T_b4ad9_level0_row1\" class=\"row_heading level0 row1\" >age</th>\n",
       "      <td id=\"T_b4ad9_row1_col0\" class=\"data row1 col0\" >0</td>\n",
       "      <td id=\"T_b4ad9_row1_col1\" class=\"data row1 col1\" >0.000000</td>\n",
       "      <td id=\"T_b4ad9_row1_col2\" class=\"data row1 col2\" >0.000000</td>\n",
       "      <td id=\"T_b4ad9_row1_col3\" class=\"data row1 col3\" >0.000000</td>\n",
       "    </tr>\n",
       "    <tr>\n",
       "      <th id=\"T_b4ad9_level0_row2\" class=\"row_heading level0 row2\" >avg_training_score</th>\n",
       "      <td id=\"T_b4ad9_row2_col0\" class=\"data row2 col0\" >0</td>\n",
       "      <td id=\"T_b4ad9_row2_col1\" class=\"data row2 col1\" >0.000000</td>\n",
       "      <td id=\"T_b4ad9_row2_col2\" class=\"data row2 col2\" >0.000000</td>\n",
       "      <td id=\"T_b4ad9_row2_col3\" class=\"data row2 col3\" >0.000000</td>\n",
       "    </tr>\n",
       "    <tr>\n",
       "      <th id=\"T_b4ad9_level0_row3\" class=\"row_heading level0 row3\" >awards_won?</th>\n",
       "      <td id=\"T_b4ad9_row3_col0\" class=\"data row3 col0\" >0</td>\n",
       "      <td id=\"T_b4ad9_row3_col1\" class=\"data row3 col1\" >0.000000</td>\n",
       "      <td id=\"T_b4ad9_row3_col2\" class=\"data row3 col2\" >0.000000</td>\n",
       "      <td id=\"T_b4ad9_row3_col3\" class=\"data row3 col3\" >0.000000</td>\n",
       "    </tr>\n",
       "    <tr>\n",
       "      <th id=\"T_b4ad9_level0_row4\" class=\"row_heading level0 row4\" >department</th>\n",
       "      <td id=\"T_b4ad9_row4_col0\" class=\"data row4 col0\" >0</td>\n",
       "      <td id=\"T_b4ad9_row4_col1\" class=\"data row4 col1\" >0.000000</td>\n",
       "      <td id=\"T_b4ad9_row4_col2\" class=\"data row4 col2\" >0.000000</td>\n",
       "      <td id=\"T_b4ad9_row4_col3\" class=\"data row4 col3\" >0.000000</td>\n",
       "    </tr>\n",
       "    <tr>\n",
       "      <th id=\"T_b4ad9_level0_row5\" class=\"row_heading level0 row5\" >education</th>\n",
       "      <td id=\"T_b4ad9_row5_col0\" class=\"data row5 col0\" >2409</td>\n",
       "      <td id=\"T_b4ad9_row5_col1\" class=\"data row5 col1\" >4.400000</td>\n",
       "      <td id=\"T_b4ad9_row5_col2\" class=\"data row5 col2\" >1034.000000</td>\n",
       "      <td id=\"T_b4ad9_row5_col3\" class=\"data row5 col3\" >4.400000</td>\n",
       "    </tr>\n",
       "    <tr>\n",
       "      <th id=\"T_b4ad9_level0_row6\" class=\"row_heading level0 row6\" >employee_id</th>\n",
       "      <td id=\"T_b4ad9_row6_col0\" class=\"data row6 col0\" >0</td>\n",
       "      <td id=\"T_b4ad9_row6_col1\" class=\"data row6 col1\" >0.000000</td>\n",
       "      <td id=\"T_b4ad9_row6_col2\" class=\"data row6 col2\" >0.000000</td>\n",
       "      <td id=\"T_b4ad9_row6_col3\" class=\"data row6 col3\" >0.000000</td>\n",
       "    </tr>\n",
       "    <tr>\n",
       "      <th id=\"T_b4ad9_level0_row7\" class=\"row_heading level0 row7\" >gender</th>\n",
       "      <td id=\"T_b4ad9_row7_col0\" class=\"data row7 col0\" >0</td>\n",
       "      <td id=\"T_b4ad9_row7_col1\" class=\"data row7 col1\" >0.000000</td>\n",
       "      <td id=\"T_b4ad9_row7_col2\" class=\"data row7 col2\" >0.000000</td>\n",
       "      <td id=\"T_b4ad9_row7_col3\" class=\"data row7 col3\" >0.000000</td>\n",
       "    </tr>\n",
       "    <tr>\n",
       "      <th id=\"T_b4ad9_level0_row8\" class=\"row_heading level0 row8\" >is_promoted</th>\n",
       "      <td id=\"T_b4ad9_row8_col0\" class=\"data row8 col0\" >0</td>\n",
       "      <td id=\"T_b4ad9_row8_col1\" class=\"data row8 col1\" >0.000000</td>\n",
       "      <td id=\"T_b4ad9_row8_col2\" class=\"data row8 col2\" >nan</td>\n",
       "      <td id=\"T_b4ad9_row8_col3\" class=\"data row8 col3\" >nan</td>\n",
       "    </tr>\n",
       "    <tr>\n",
       "      <th id=\"T_b4ad9_level0_row9\" class=\"row_heading level0 row9\" >length_of_service</th>\n",
       "      <td id=\"T_b4ad9_row9_col0\" class=\"data row9 col0\" >0</td>\n",
       "      <td id=\"T_b4ad9_row9_col1\" class=\"data row9 col1\" >0.000000</td>\n",
       "      <td id=\"T_b4ad9_row9_col2\" class=\"data row9 col2\" >0.000000</td>\n",
       "      <td id=\"T_b4ad9_row9_col3\" class=\"data row9 col3\" >0.000000</td>\n",
       "    </tr>\n",
       "    <tr>\n",
       "      <th id=\"T_b4ad9_level0_row10\" class=\"row_heading level0 row10\" >no_of_trainings</th>\n",
       "      <td id=\"T_b4ad9_row10_col0\" class=\"data row10 col0\" >0</td>\n",
       "      <td id=\"T_b4ad9_row10_col1\" class=\"data row10 col1\" >0.000000</td>\n",
       "      <td id=\"T_b4ad9_row10_col2\" class=\"data row10 col2\" >0.000000</td>\n",
       "      <td id=\"T_b4ad9_row10_col3\" class=\"data row10 col3\" >0.000000</td>\n",
       "    </tr>\n",
       "    <tr>\n",
       "      <th id=\"T_b4ad9_level0_row11\" class=\"row_heading level0 row11\" >previous_year_rating</th>\n",
       "      <td id=\"T_b4ad9_row11_col0\" class=\"data row11 col0\" >4124</td>\n",
       "      <td id=\"T_b4ad9_row11_col1\" class=\"data row11 col1\" >7.520000</td>\n",
       "      <td id=\"T_b4ad9_row11_col2\" class=\"data row11 col2\" >1812.000000</td>\n",
       "      <td id=\"T_b4ad9_row11_col3\" class=\"data row11 col3\" >7.710000</td>\n",
       "    </tr>\n",
       "    <tr>\n",
       "      <th id=\"T_b4ad9_level0_row12\" class=\"row_heading level0 row12\" >recruitment_channel</th>\n",
       "      <td id=\"T_b4ad9_row12_col0\" class=\"data row12 col0\" >0</td>\n",
       "      <td id=\"T_b4ad9_row12_col1\" class=\"data row12 col1\" >0.000000</td>\n",
       "      <td id=\"T_b4ad9_row12_col2\" class=\"data row12 col2\" >0.000000</td>\n",
       "      <td id=\"T_b4ad9_row12_col3\" class=\"data row12 col3\" >0.000000</td>\n",
       "    </tr>\n",
       "    <tr>\n",
       "      <th id=\"T_b4ad9_level0_row13\" class=\"row_heading level0 row13\" >region</th>\n",
       "      <td id=\"T_b4ad9_row13_col0\" class=\"data row13 col0\" >0</td>\n",
       "      <td id=\"T_b4ad9_row13_col1\" class=\"data row13 col1\" >0.000000</td>\n",
       "      <td id=\"T_b4ad9_row13_col2\" class=\"data row13 col2\" >0.000000</td>\n",
       "      <td id=\"T_b4ad9_row13_col3\" class=\"data row13 col3\" >0.000000</td>\n",
       "    </tr>\n",
       "  </tbody>\n",
       "</table>\n"
      ]
     },
     "metadata": {},
     "execution_count": 15
    }
   ],
   "metadata": {}
  },
  {
   "cell_type": "code",
   "execution_count": 16,
   "source": [
    "# lets impute the missing values in the Training Data\r\n",
    "\r\n",
    "train['education'] = train['education'].fillna(train['education'].mode()[0])\r\n",
    "train['previous_year_rating'] = train['previous_year_rating'].fillna(train['previous_year_rating'].mode()[0])\r\n",
    "\r\n",
    "# lets check whether the Null values are still present or not?\r\n",
    "print(\"Number of Missing Values Left in the Training Data :\", train.isnull().sum().sum())"
   ],
   "outputs": [
    {
     "output_type": "stream",
     "name": "stdout",
     "text": [
      "Number of Missing Values Left in the Training Data : 0\n"
     ]
    }
   ],
   "metadata": {}
  },
  {
   "cell_type": "code",
   "execution_count": 17,
   "source": [
    "# lets impute the missing values in the Testing Data\r\n",
    "\r\n",
    "test['education'] = test['education'].fillna(test['education'].mode()[0])\r\n",
    "test['previous_year_rating'] = test['previous_year_rating'].fillna(test['previous_year_rating'].mode()[0])\r\n",
    "\r\n",
    "# lets check whether the Null values are still present or not?\r\n",
    "print(\"Number of Missing Values Left in the Training Data :\", test.isnull().sum().sum())"
   ],
   "outputs": [
    {
     "output_type": "stream",
     "name": "stdout",
     "text": [
      "Number of Missing Values Left in the Training Data : 0\n"
     ]
    }
   ],
   "metadata": {}
  },
  {
   "cell_type": "markdown",
   "source": [
    "### Missing data is filled respectively in the training and testing data using mod"
   ],
   "metadata": {}
  },
  {
   "cell_type": "markdown",
   "source": [
    "# Outlier Detection"
   ],
   "metadata": {}
  },
  {
   "cell_type": "markdown",
   "source": [
    "## Univariate Analysis\n"
   ],
   "metadata": {}
  },
  {
   "cell_type": "code",
   "execution_count": 18,
   "source": [
    "# plot pie chart for the columns where we have very few categories\r\n",
    "plt.rcParams['figure.figsize'] = (16,5)\r\n",
    "plt.style.use('seaborn-whitegrid')\r\n",
    "\r\n",
    "# plotting a pie chart to represent share of Previous year Rating of the Employees\r\n",
    "plt.subplot(1, 3, 1)\r\n",
    "labels = ['0','1']\r\n",
    "sizes = train['KPIs_met >80%'].value_counts()\r\n",
    "colors = plt.cm.Wistia(np.linspace(0, 1, 5))\r\n",
    "explode = [0, 0]\r\n",
    "\r\n",
    "plt.pie(sizes, labels = labels, colors = colors, explode = explode, shadow = True, startangle = 90)\r\n",
    "plt.title('KPIs Met > 80%', fontsize = 20)\r\n",
    "\r\n",
    "# plotting a pie chart to represent share of Previous year Rating of the Employees\r\n",
    "plt.subplot(1, 3, 2)\r\n",
    "labels = ['1', '2', '3', '4', '5']\r\n",
    "sizes = train['previous_year_rating'].value_counts()\r\n",
    "colors = plt.cm.Wistia(np.linspace(0, 1, 5))\r\n",
    "explode = [0, 0, 0, 0, 0.1]\r\n",
    "\r\n",
    "plt.pie(sizes, labels = labels, colors = colors, explode = explode, shadow = True, startangle = 90)\r\n",
    "plt.title('Previous year Ratings', fontsize = 20)\r\n",
    "\r\n",
    "# plotting a pie chart to represent share of Previous year Rating of the Employees\r\n",
    "plt.subplot(1, 3, 3)\r\n",
    "labels = ['0', '1']\r\n",
    "sizes = train['awards_won?'].value_counts()\r\n",
    "colors = plt.cm.Wistia(np.linspace(0, 1, 5))\r\n",
    "explode = [0,0.1]\r\n",
    "\r\n",
    "plt.pie(sizes, labels = labels, colors = colors, explode = explode, shadow = True, startangle = 90)\r\n",
    "plt.title('Awards Won?', fontsize = 20)\r\n",
    "\r\n",
    "\r\n",
    "plt.legend()\r\n",
    "plt.show()"
   ],
   "outputs": [
    {
     "output_type": "display_data",
     "data": {
      "text/plain": [
       "<Figure size 1152x360 with 3 Axes>"
      ],
      "image/png": "[encoded data removed]"
     },
     "metadata": {}
    }
   ],
   "metadata": {}
  },
  {
   "cell_type": "markdown",
   "source": [
    "### We, can see that there are some pie charts, we have for representing KPIs, Previous year Ratings, and Awards Won?\n",
    "\n",
    "### Also, The one Big Pattern is that only some of the employees could reach above 80% of KPIs set.\n",
    "### Most of the Employees have a very low rating for the previous year, and\n",
    "### very few employees, probably 2% of them could get awards for their work, which is normal."
   ],
   "metadata": {}
  },
  {
   "cell_type": "code",
   "execution_count": 19,
   "source": [
    "# check the distribution of trainings undertaken by the employees\r\n",
    "\r\n",
    "plt.rcParams['figure.figsize'] = (17, 4)\r\n",
    "sns.countplot(train['no_of_trainings'], palette = 'winter')\r\n",
    "plt.xlabel(' ', fontsize = 14)\r\n",
    "plt.title('Distribution of Trainings undertaken by the Employees')\r\n",
    "plt.show()"
   ],
   "outputs": [
    {
     "output_type": "stream",
     "name": "stderr",
     "text": [
      "C:\\Users\\sks4u\\AppData\\Local\\Programs\\Python\\Python39\\lib\\site-packages\\seaborn\\_decorators.py:36: FutureWarning: Pass the following variable as a keyword arg: x. From version 0.12, the only valid positional argument will be `data`, and passing other arguments without an explicit keyword will result in an error or misinterpretation.\n",
      "  warnings.warn(\n"
     ]
    },
    {
     "output_type": "display_data",
     "data": {
      "text/plain": [
       "<Figure size 1224x288 with 1 Axes>"
      ],
      "image/png": "[encoded data removed]"
     },
     "metadata": {}
    }
   ],
   "metadata": {}
  },
  {
   "cell_type": "code",
   "execution_count": 20,
   "source": [
    "# check the Age of the Employees\r\n",
    "\r\n",
    "plt.rcParams['figure.figsize'] = (8, 4)\r\n",
    "plt.hist(train['age'], color = 'blue')\r\n",
    "plt.title('Distribution of Age among the Employees', fontsize = 20)\r\n",
    "plt.xlabel('Age of the Employees')\r\n",
    "plt.grid()\r\n",
    "plt.show()"
   ],
   "outputs": [
    {
     "output_type": "display_data",
     "data": {
      "text/plain": [
       "<Figure size 576x288 with 1 Axes>"
      ],
      "image/png": "[encoded data removed]"
     },
     "metadata": {}
    }
   ],
   "metadata": {}
  },
  {
   "cell_type": "code",
   "execution_count": 21,
   "source": [
    "# check different Departments\r\n",
    "\r\n",
    "plt.rcParams['figure.figsize'] = (12, 6)\r\n",
    "sns.countplot(y = train['department'], palette = 'cividis', orient = 'v')\r\n",
    "plt.xlabel('')\r\n",
    "plt.ylabel('Department Name')\r\n",
    "plt.title('Distribution of Employees in Different Departments', fontsize = 20)\r\n",
    "plt.grid()\r\n",
    "\r\n",
    "plt.show()"
   ],
   "outputs": [
    {
     "output_type": "display_data",
     "data": {
      "text/plain": [
       "<Figure size 864x432 with 1 Axes>"
      ],
      "image/png": "[encoded data removed]"
     },
     "metadata": {}
    }
   ],
   "metadata": {}
  },
  {
   "cell_type": "code",
   "execution_count": 22,
   "source": [
    "# check distribution of different Regions\r\n",
    "\r\n",
    "plt.rcParams['figure.figsize'] = (12,15)\r\n",
    "plt.style.use('fivethirtyeight')\r\n",
    "sns.countplot(y = train['region'], palette = 'inferno', orient = 'v')\r\n",
    "plt.xlabel('')\r\n",
    "plt.ylabel('Region')\r\n",
    "plt.title('Different Regions', fontsize = 15)\r\n",
    "plt.xticks(rotation = 90)\r\n",
    "plt.grid()\r\n",
    "plt.show()"
   ],
   "outputs": [
    {
     "output_type": "display_data",
     "data": {
      "text/plain": [
       "<Figure size 864x1080 with 1 Axes>"
      ],
      "image/png": "[encoded data removed]"
     },
     "metadata": {}
    }
   ],
   "metadata": {}
  },
  {
   "cell_type": "code",
   "execution_count": 23,
   "source": [
    "# plotting pie chart for the columns where we have very few categories\r\n",
    "plt.rcParams['figure.figsize'] = (16,5)\r\n",
    "\r\n",
    "# plotting a pie chart to represent share of Previous year Rating of the Employees\r\n",
    "plt.subplot(1, 3, 1)\r\n",
    "labels = train['education'].value_counts().index\r\n",
    "sizes = train['education'].value_counts()\r\n",
    "colors = plt.cm.copper(np.linspace(0, 1, 5))\r\n",
    "explode = [0, 0, 0.1]\r\n",
    "\r\n",
    "plt.pie(sizes, labels = labels, colors = colors, explode = explode, shadow = True, startangle = 90)\r\n",
    "plt.title('Education', fontsize = 20)\r\n",
    "\r\n",
    "# plotting a pie chart to represent share of Previous year Rating of the Employees\r\n",
    "plt.subplot(1, 3, 2)\r\n",
    "labels = train['gender'].value_counts().index\r\n",
    "sizes = train['gender'].value_counts()\r\n",
    "colors = plt.cm.copper(np.linspace(0, 1, 5))\r\n",
    "explode = [0, 0]\r\n",
    "\r\n",
    "plt.pie(sizes, labels = labels, colors = colors, explode = explode, shadow = True, startangle = 90)\r\n",
    "plt.title('Gender', fontsize = 20)\r\n",
    "\r\n",
    "# plotting a pie chart to represent share of Previous year Rating of the Employees\r\n",
    "plt.subplot(1, 3, 3)\r\n",
    "labels = train['recruitment_channel'].value_counts().index\r\n",
    "sizes = train['recruitment_channel'].value_counts()\r\n",
    "colors = plt.cm.copper(np.linspace(0, 1, 5))\r\n",
    "explode = [0,0,0.1]\r\n",
    "\r\n",
    "plt.pie(sizes, labels = labels, colors = colors, explode = explode, shadow = True, startangle = 90)\r\n",
    "plt.title('Recruitment Channel', fontsize = 20)\r\n",
    "\r\n",
    "plt.show()"
   ],
   "outputs": [
    {
     "output_type": "display_data",
     "data": {
      "text/plain": [
       "<Figure size 1152x360 with 3 Axes>"
      ],
      "image/png": "[encoded data removed]"
     },
     "metadata": {}
    }
   ],
   "metadata": {}
  },
  {
   "cell_type": "markdown",
   "source": [
    "From, the above pie charts displayed for representing Education, Gender, and Recruitment Channel.\n",
    "\n",
    "lets infer the Main Highlights\n",
    "Very Few employees are actually working only after their Secondary Education, \n",
    "Obviously Females are again in Minority as compared to their Male Counterparts.\n",
    "and the Recruitment Channel, says that the Referred Employees are very less, i.e., most of the employees are recruited either by sourcing, or some other recruitment agencies, sources etc."
   ],
   "metadata": {}
  },
  {
   "cell_type": "markdown",
   "source": [
    "# Bivariate Analysis\n",
    "\n",
    "* First, we will perform Categorical vs Categorical Analysis using Stacked and Grouped Bar Charts with the help of crosstab function.\n",
    "* Second, we will perform Categorical vs Numerical Analysis using Bar Charts, Box plots, Strip plots, Swarm plots, Boxen plots, Violin Plots, etc\n",
    "* Atlast, we will perform Numerical vs Numerical Analysis using Scatter plots."
   ],
   "metadata": {}
  },
  {
   "cell_type": "code",
   "execution_count": 24,
   "source": [
    "# Lets compare the Gender Gap in the promotion\r\n",
    "\r\n",
    "import warnings\r\n",
    "warnings.filterwarnings('ignore')\r\n",
    "\r\n",
    "plt.rcParams['figure.figsize'] = (13, 5)\r\n",
    "plt.style.use('seaborn-paper')\r\n",
    "x = pd.crosstab(train['gender'], train['is_promoted'])\r\n",
    "colors = plt.cm.Wistia(np.linspace(0, 2, 5))\r\n",
    "x.div(x.sum(1).astype(float), axis = 0).plot(kind = 'bar', stacked = False)\r\n",
    "plt.title('Effect of Gender on Promotion', fontsize = 17)\r\n",
    "plt.xlabel(' ')\r\n",
    "plt.show()"
   ],
   "outputs": [
    {
     "output_type": "display_data",
     "data": {
      "text/plain": [
       "<Figure size 460.8x316.8 with 1 Axes>"
      ],
      "image/png": "[encoded data removed]"
     },
     "metadata": {}
    }
   ],
   "metadata": {}
  },
  {
   "cell_type": "markdown",
   "source": [
    "### As we have already seen that the Females are in Minority, but when it comes to Promotion, they are competing with their Men Counterparts neck-to-neck. That's a great Inference."
   ],
   "metadata": {}
  },
  {
   "cell_type": "code",
   "execution_count": 25,
   "source": [
    "# lets compare the effect of different Departments and Promotion\r\n",
    "\r\n",
    "plt.rcParams['figure.figsize'] = (15,4)\r\n",
    "plt.style.use('seaborn-paper')\r\n",
    "x = pd.crosstab(train['department'], train['is_promoted'])\r\n",
    "colors = plt.cm.copper(np.linspace(0, 1, 3))\r\n",
    "x.div(x.sum(1).astype(float), axis = 0).plot(kind = 'area', stacked = False)\r\n",
    "plt.title('Effect of Department on Promotion', fontsize = 15)\r\n",
    "plt.xticks(rotation = 20)\r\n",
    "plt.xlabel(' ')\r\n",
    "plt.show()"
   ],
   "outputs": [
    {
     "output_type": "display_data",
     "data": {
      "text/plain": [
       "<Figure size 460.8x316.8 with 1 Axes>"
      ],
      "image/png": "[encoded data removed]"
     },
     "metadata": {}
    }
   ],
   "metadata": {}
  },
  {
   "cell_type": "markdown",
   "source": [
    "### From, the above chart we can see that almost all the Departments have a very similar effect on Promotion. So, we can consider that all the Departments have a similar effect on the promotion. Also, this column comes out to be lesser important in making a Machine Learning Model, as it does not contribute at all when it comes to Predicting whether the Employee should get Promotion."
   ],
   "metadata": {}
  },
  {
   "cell_type": "code",
   "execution_count": 26,
   "source": [
    "# Effect of Age on the Promotion\r\n",
    "\r\n",
    "plt.rcParams['figure.figsize'] = (15,4)\r\n",
    "sns.boxenplot(train['is_promoted'], train['age'], palette = 'PuRd')\r\n",
    "plt.title('Effect of Age on Promotion', fontsize = 15)\r\n",
    "plt.xlabel('Is the Employee Promoted?', fontsize = 15)\r\n",
    "plt.ylabel('Age of the Employee', fontsize = 15)\r\n",
    "plt.show()"
   ],
   "outputs": [
    {
     "output_type": "display_data",
     "data": {
      "text/plain": [
       "<Figure size 1080x288 with 1 Axes>"
      ],
      "image/png": "[encoded data removed]"
     },
     "metadata": {}
    }
   ],
   "metadata": {}
  },
  {
   "cell_type": "code",
   "execution_count": 27,
   "source": [
    "# Department Vs Average Training Score\r\n",
    "\r\n",
    "plt.rcParams['figure.figsize'] = (16, 7)\r\n",
    "sns.boxenplot(train['department'], train['avg_training_score'], palette = 'spring')\r\n",
    "plt.title('Average Training Scores from each Department', fontsize = 15)\r\n",
    "plt.ylabel('Promoted or not', fontsize = 10)\r\n",
    "plt.xlabel('Departments', fontsize = 10)\r\n",
    "plt.show()"
   ],
   "outputs": [
    {
     "output_type": "display_data",
     "data": {
      "text/plain": [
       "<Figure size 1152x504 with 1 Axes>"
      ],
      "image/png": "[encoded data removed]"
     },
     "metadata": {}
    }
   ],
   "metadata": {}
  },
  {
   "cell_type": "markdown",
   "source": [
    "# Multivariate Analysis\n",
    "\n",
    "* First, we will use the Correlation Heatmap to check the correlation between the Numerical Columns\n",
    "* Then we will check the ppscore or the Predictive Score to check the correlation between all the columns present in the data.\n",
    "* Then, we will use Bubble Charts, split Violin plots, Hue with Bivariate Plots."
   ],
   "metadata": {}
  },
  {
   "cell_type": "markdown",
   "source": [
    "## Feature Engineering\n",
    "\n",
    "Feature engineering is the process of using domain knowledge to extract features from raw data via data mining techniques. These features can be used to improve the performance of machine learning algorithms. Feature engineering can be considered as applied machine learning itself.\n",
    "\n",
    "* There are mutliple ways of performing feature engineering.\n",
    "* So many people in the Industry consider it the most important step to improve the Model Performance.\n",
    "* We should always understand the columns well to make some new features using the old existing features.\n",
    "* Let's discuss the ways how we can perform feature engineering\n",
    "    * We can perform Feature Engineering by Removing Unnecassary Columns\n",
    "    * We can do it by Extracting Features from the Date and Time Features.\n",
    "    * We can do it by Extracting Features from the Categorcial Features.\n",
    "    * We can do it by Binnning the Numerical and Categorical Features.\n",
    "    * We can do it by Aggregating Multiple Features together by using simple Arithmetic operations\n",
    "    \n",
    "* Here, we are only going to perform Feature Engineering by Aggregating some features together."
   ],
   "metadata": {}
  },
  {
   "cell_type": "code",
   "execution_count": 28,
   "source": [
    "# lets create some extra features from existing features to improve our Model\r\n",
    "\r\n",
    "# creating a Metric of Sum\r\n",
    "train['sum_metric'] = train['awards_won?']+train['KPIs_met >80%'] + train['previous_year_rating']\r\n",
    "test['sum_metric'] = test['awards_won?']+test['KPIs_met >80%'] + test['previous_year_rating']\r\n",
    "\r\n",
    "# creating a total score column\r\n",
    "train['total_score'] = train['avg_training_score'] * train['no_of_trainings']\r\n",
    "test['total_score'] = test['avg_training_score'] * test['no_of_trainings']"
   ],
   "outputs": [],
   "metadata": {}
  },
  {
   "cell_type": "code",
   "execution_count": 29,
   "source": [
    "# lets remove some of the columns which are not very useful for predicting the promotion.\r\n",
    "\r\n",
    "# we already know that the recruitment channel is very least related to promotion of an employee, so lets remove this column\r\n",
    "# even the region seems to contribute very less, when it comes to promotion, so lets remove it too.\r\n",
    "# also the employee id is not useful so lets remove it.\r\n",
    "\r\n",
    "train = train.drop(['recruitment_channel', 'region', 'employee_id'], axis = 1)\r\n",
    "test = test.drop(['recruitment_channel', 'region', 'employee_id'], axis = 1)\r\n",
    "\r\n",
    "# lets check the columns in train and test data set after feature engineering\r\n",
    "train.columns"
   ],
   "outputs": [
    {
     "output_type": "execute_result",
     "data": {
      "text/plain": [
       "Index(['department', 'education', 'gender', 'no_of_trainings', 'age',\n",
       "       'previous_year_rating', 'length_of_service', 'KPIs_met >80%',\n",
       "       'awards_won?', 'avg_training_score', 'is_promoted', 'sum_metric',\n",
       "       'total_score'],\n",
       "      dtype='object')"
      ]
     },
     "metadata": {},
     "execution_count": 29
    }
   ],
   "metadata": {}
  },
  {
   "cell_type": "code",
   "execution_count": 30,
   "source": [
    "'''\r\n",
    "lets check the no. of employee who did not get an award, did not acheive 80+ KPI, previous_year_rating as 1\r\n",
    "and avg_training score is less than 40\r\n",
    "but, still got promotion.\r\n",
    "''' \r\n",
    "\r\n",
    "train[(train['KPIs_met >80%'] == 0) & (train['previous_year_rating'] == 1.0) & \r\n",
    "      (train['awards_won?'] == 0) & (train['avg_training_score'] < 60) & (train['is_promoted'] == 1)]"
   ],
   "outputs": [
    {
     "output_type": "execute_result",
     "data": {
      "text/plain": [
       "              department   education gender  no_of_trainings  age  \\\n",
       "31860  Sales & Marketing  Bachelor's      m                1   27   \n",
       "51374  Sales & Marketing  Bachelor's      m                1   31   \n",
       "\n",
       "       previous_year_rating  length_of_service  KPIs_met >80%  awards_won?  \\\n",
       "31860                   1.0                  2              0            0   \n",
       "51374                   1.0                  5              0            0   \n",
       "\n",
       "       avg_training_score  is_promoted  sum_metric  total_score  \n",
       "31860                  58            1         1.0           58  \n",
       "51374                  58            1         1.0           58  "
      ],
      "text/html": [
       "<div>\n",
       "<style scoped>\n",
       "    .dataframe tbody tr th:only-of-type {\n",
       "        vertical-align: middle;\n",
       "    }\n",
       "\n",
       "    .dataframe tbody tr th {\n",
       "        vertical-align: top;\n",
       "    }\n",
       "\n",
       "    .dataframe thead th {\n",
       "        text-align: right;\n",
       "    }\n",
       "</style>\n",
       "<table border=\"1\" class=\"dataframe\">\n",
       "  <thead>\n",
       "    <tr style=\"text-align: right;\">\n",
       "      <th></th>\n",
       "      <th>department</th>\n",
       "      <th>education</th>\n",
       "      <th>gender</th>\n",
       "      <th>no_of_trainings</th>\n",
       "      <th>age</th>\n",
       "      <th>previous_year_rating</th>\n",
       "      <th>length_of_service</th>\n",
       "      <th>KPIs_met &gt;80%</th>\n",
       "      <th>awards_won?</th>\n",
       "      <th>avg_training_score</th>\n",
       "      <th>is_promoted</th>\n",
       "      <th>sum_metric</th>\n",
       "      <th>total_score</th>\n",
       "    </tr>\n",
       "  </thead>\n",
       "  <tbody>\n",
       "    <tr>\n",
       "      <th>31860</th>\n",
       "      <td>Sales &amp; Marketing</td>\n",
       "      <td>Bachelor's</td>\n",
       "      <td>m</td>\n",
       "      <td>1</td>\n",
       "      <td>27</td>\n",
       "      <td>1.0</td>\n",
       "      <td>2</td>\n",
       "      <td>0</td>\n",
       "      <td>0</td>\n",
       "      <td>58</td>\n",
       "      <td>1</td>\n",
       "      <td>1.0</td>\n",
       "      <td>58</td>\n",
       "    </tr>\n",
       "    <tr>\n",
       "      <th>51374</th>\n",
       "      <td>Sales &amp; Marketing</td>\n",
       "      <td>Bachelor's</td>\n",
       "      <td>m</td>\n",
       "      <td>1</td>\n",
       "      <td>31</td>\n",
       "      <td>1.0</td>\n",
       "      <td>5</td>\n",
       "      <td>0</td>\n",
       "      <td>0</td>\n",
       "      <td>58</td>\n",
       "      <td>1</td>\n",
       "      <td>1.0</td>\n",
       "      <td>58</td>\n",
       "    </tr>\n",
       "  </tbody>\n",
       "</table>\n",
       "</div>"
      ]
     },
     "metadata": {},
     "execution_count": 30
    }
   ],
   "metadata": {}
  },
  {
   "cell_type": "code",
   "execution_count": 31,
   "source": [
    "# lets remove the above two columns as they have a huge negative effect on our training data\r\n",
    "\r\n",
    "# lets check shape of the train data before deleting two rows\r\n",
    "print(\"Before Deleting the above two rows :\", train.shape)\r\n",
    "\r\n",
    "train = train.drop(train[(train['KPIs_met >80%'] == 0) & (train['previous_year_rating'] == 1.0) & \r\n",
    "      (train['awards_won?'] == 0) & (train['avg_training_score'] < 60) & (train['is_promoted'] == 1)].index)\r\n",
    "\r\n",
    "# lets check the shape of the train data after deleting the two rows\r\n",
    "print(\"After Deletion of the above two rows :\", train.shape)"
   ],
   "outputs": [
    {
     "output_type": "stream",
     "name": "stdout",
     "text": [
      "Before Deleting the above two rows : (54808, 13)\n",
      "After Deletion of the above two rows : (54806, 13)\n"
     ]
    }
   ],
   "metadata": {}
  },
  {
   "cell_type": "markdown",
   "source": [
    "## Dealing with Categorical Columns\n",
    "\n",
    "Categorical variables are known to hide and mask lots of interesting information in a data set. It’s crucial to learn the methods of dealing with such variables. If you won’t, many a times, you’d miss out on finding the most important variables in a model. It has happened with me. Initially, I used to focus more on numerical variables. Hence, never actually got an accurate model. But, later I discovered my flaws and learnt the art of dealing with such variables.\n",
    "\n",
    "* There are various ways to encode categorical columns into Numerical columns\n",
    "* This is an Essential Step, as we Machine Learning Models only works with Numerical Values.\n",
    "* Here, we are going to use Business Logic to encode the education column\n",
    "* Then we will use the Label Encoder, to Department and Gender Columns"
   ],
   "metadata": {}
  },
  {
   "cell_type": "code",
   "execution_count": 32,
   "source": [
    "## Lets check the categorical columns present in the data\r\n",
    "train.select_dtypes('object').head()"
   ],
   "outputs": [
    {
     "output_type": "execute_result",
     "data": {
      "text/plain": [
       "          department         education gender\n",
       "0  Sales & Marketing  Master's & above      f\n",
       "1         Operations        Bachelor's      m\n",
       "2  Sales & Marketing        Bachelor's      m\n",
       "3  Sales & Marketing        Bachelor's      m\n",
       "4         Technology        Bachelor's      m"
      ],
      "text/html": [
       "<div>\n",
       "<style scoped>\n",
       "    .dataframe tbody tr th:only-of-type {\n",
       "        vertical-align: middle;\n",
       "    }\n",
       "\n",
       "    .dataframe tbody tr th {\n",
       "        vertical-align: top;\n",
       "    }\n",
       "\n",
       "    .dataframe thead th {\n",
       "        text-align: right;\n",
       "    }\n",
       "</style>\n",
       "<table border=\"1\" class=\"dataframe\">\n",
       "  <thead>\n",
       "    <tr style=\"text-align: right;\">\n",
       "      <th></th>\n",
       "      <th>department</th>\n",
       "      <th>education</th>\n",
       "      <th>gender</th>\n",
       "    </tr>\n",
       "  </thead>\n",
       "  <tbody>\n",
       "    <tr>\n",
       "      <th>0</th>\n",
       "      <td>Sales &amp; Marketing</td>\n",
       "      <td>Master's &amp; above</td>\n",
       "      <td>f</td>\n",
       "    </tr>\n",
       "    <tr>\n",
       "      <th>1</th>\n",
       "      <td>Operations</td>\n",
       "      <td>Bachelor's</td>\n",
       "      <td>m</td>\n",
       "    </tr>\n",
       "    <tr>\n",
       "      <th>2</th>\n",
       "      <td>Sales &amp; Marketing</td>\n",
       "      <td>Bachelor's</td>\n",
       "      <td>m</td>\n",
       "    </tr>\n",
       "    <tr>\n",
       "      <th>3</th>\n",
       "      <td>Sales &amp; Marketing</td>\n",
       "      <td>Bachelor's</td>\n",
       "      <td>m</td>\n",
       "    </tr>\n",
       "    <tr>\n",
       "      <th>4</th>\n",
       "      <td>Technology</td>\n",
       "      <td>Bachelor's</td>\n",
       "      <td>m</td>\n",
       "    </tr>\n",
       "  </tbody>\n",
       "</table>\n",
       "</div>"
      ]
     },
     "metadata": {},
     "execution_count": 32
    }
   ],
   "metadata": {}
  },
  {
   "cell_type": "code",
   "execution_count": 33,
   "source": [
    "# lets check the value counts for the education column\r\n",
    "train['education'].value_counts()"
   ],
   "outputs": [
    {
     "output_type": "execute_result",
     "data": {
      "text/plain": [
       "Bachelor's          39076\n",
       "Master's & above    14925\n",
       "Below Secondary       805\n",
       "Name: education, dtype: int64"
      ]
     },
     "metadata": {},
     "execution_count": 33
    }
   ],
   "metadata": {}
  },
  {
   "cell_type": "code",
   "execution_count": 34,
   "source": [
    "# lets start encoding these categorical columns to convert them into numerical columns\r\n",
    "\r\n",
    "# lets encode the education in their degree of importance \r\n",
    "train['education'] = train['education'].replace((\"Master's & above\", \"Bachelor's\", \"Below Secondary\"),\r\n",
    "                                                (3, 2, 1))\r\n",
    "test['education'] = test['education'].replace((\"Master's & above\", \"Bachelor's\", \"Below Secondary\"),\r\n",
    "                                                (3, 2, 1))\r\n",
    "\r\n",
    "# lets use Label Encoding for Gender and Department to convert them into Numerical\r\n",
    "from sklearn.preprocessing import LabelEncoder\r\n",
    "\r\n",
    "le = LabelEncoder()\r\n",
    "train['department'] = le.fit_transform(train['department'])\r\n",
    "test['department'] = le.fit_transform(test['department'])\r\n",
    "train['gender'] = le.fit_transform(train['gender'])\r\n",
    "test['gender'] = le.fit_transform(test['gender'])\r\n",
    "\r\n",
    "# lets check whether we still have any categorical columns left after encoding\r\n",
    "print(train.select_dtypes('object').columns)\r\n",
    "print(test.select_dtypes('object').columns)"
   ],
   "outputs": [
    {
     "output_type": "stream",
     "name": "stdout",
     "text": [
      "Index([], dtype='object')\n",
      "Index([], dtype='object')\n"
     ]
    }
   ],
   "metadata": {}
  },
  {
   "cell_type": "code",
   "execution_count": 35,
   "source": [
    "# lets check the data after encoding\r\n",
    "train.head(3)"
   ],
   "outputs": [
    {
     "output_type": "execute_result",
     "data": {
      "text/plain": [
       "   department  education  gender  no_of_trainings  age  previous_year_rating  \\\n",
       "0           7          3       0                1   35                   5.0   \n",
       "1           4          2       1                1   30                   5.0   \n",
       "2           7          2       1                1   34                   3.0   \n",
       "\n",
       "   length_of_service  KPIs_met >80%  awards_won?  avg_training_score  \\\n",
       "0                  8              1            0                  49   \n",
       "1                  4              0            0                  60   \n",
       "2                  7              0            0                  50   \n",
       "\n",
       "   is_promoted  sum_metric  total_score  \n",
       "0            0         6.0           49  \n",
       "1            0         5.0           60  \n",
       "2            0         3.0           50  "
      ],
      "text/html": [
       "<div>\n",
       "<style scoped>\n",
       "    .dataframe tbody tr th:only-of-type {\n",
       "        vertical-align: middle;\n",
       "    }\n",
       "\n",
       "    .dataframe tbody tr th {\n",
       "        vertical-align: top;\n",
       "    }\n",
       "\n",
       "    .dataframe thead th {\n",
       "        text-align: right;\n",
       "    }\n",
       "</style>\n",
       "<table border=\"1\" class=\"dataframe\">\n",
       "  <thead>\n",
       "    <tr style=\"text-align: right;\">\n",
       "      <th></th>\n",
       "      <th>department</th>\n",
       "      <th>education</th>\n",
       "      <th>gender</th>\n",
       "      <th>no_of_trainings</th>\n",
       "      <th>age</th>\n",
       "      <th>previous_year_rating</th>\n",
       "      <th>length_of_service</th>\n",
       "      <th>KPIs_met &gt;80%</th>\n",
       "      <th>awards_won?</th>\n",
       "      <th>avg_training_score</th>\n",
       "      <th>is_promoted</th>\n",
       "      <th>sum_metric</th>\n",
       "      <th>total_score</th>\n",
       "    </tr>\n",
       "  </thead>\n",
       "  <tbody>\n",
       "    <tr>\n",
       "      <th>0</th>\n",
       "      <td>7</td>\n",
       "      <td>3</td>\n",
       "      <td>0</td>\n",
       "      <td>1</td>\n",
       "      <td>35</td>\n",
       "      <td>5.0</td>\n",
       "      <td>8</td>\n",
       "      <td>1</td>\n",
       "      <td>0</td>\n",
       "      <td>49</td>\n",
       "      <td>0</td>\n",
       "      <td>6.0</td>\n",
       "      <td>49</td>\n",
       "    </tr>\n",
       "    <tr>\n",
       "      <th>1</th>\n",
       "      <td>4</td>\n",
       "      <td>2</td>\n",
       "      <td>1</td>\n",
       "      <td>1</td>\n",
       "      <td>30</td>\n",
       "      <td>5.0</td>\n",
       "      <td>4</td>\n",
       "      <td>0</td>\n",
       "      <td>0</td>\n",
       "      <td>60</td>\n",
       "      <td>0</td>\n",
       "      <td>5.0</td>\n",
       "      <td>60</td>\n",
       "    </tr>\n",
       "    <tr>\n",
       "      <th>2</th>\n",
       "      <td>7</td>\n",
       "      <td>2</td>\n",
       "      <td>1</td>\n",
       "      <td>1</td>\n",
       "      <td>34</td>\n",
       "      <td>3.0</td>\n",
       "      <td>7</td>\n",
       "      <td>0</td>\n",
       "      <td>0</td>\n",
       "      <td>50</td>\n",
       "      <td>0</td>\n",
       "      <td>3.0</td>\n",
       "      <td>50</td>\n",
       "    </tr>\n",
       "  </tbody>\n",
       "</table>\n",
       "</div>"
      ]
     },
     "metadata": {},
     "execution_count": 35
    }
   ],
   "metadata": {}
  },
  {
   "cell_type": "markdown",
   "source": [
    "## Splitting the Data\n",
    "\n",
    "This is one of the most Important step to perform Machine Learning Prediction on a Dataset,\n",
    "We have to separate the Target and Independent Columns.\n",
    "* We store the Target Variable in y, and then we store the rest of the columns in x, by deleting the target column from the data\n",
    "* Also, we are changing the name of test dataset to x_test for ease of understanding."
   ],
   "metadata": {}
  },
  {
   "cell_type": "code",
   "execution_count": 36,
   "source": [
    "# lets split the target data from the train data\r\n",
    "\r\n",
    "y = train['is_promoted']\r\n",
    "x = train.drop(['is_promoted'], axis = 1)\r\n",
    "x_test = test\r\n",
    "\r\n",
    "# lets print the shapes of these newly formed data sets\r\n",
    "print(\"Shape of the x :\", x.shape)\r\n",
    "print(\"Shape of the y :\", y.shape)\r\n",
    "print(\"Shape of the x Test :\", x_test.shape)"
   ],
   "outputs": [
    {
     "output_type": "stream",
     "name": "stdout",
     "text": [
      "Shape of the x : (54806, 12)\n",
      "Shape of the y : (54806,)\n",
      "Shape of the x Test : (23490, 12)\n"
     ]
    }
   ],
   "metadata": {}
  },
  {
   "cell_type": "markdown",
   "source": [
    "## Resampling\n",
    "\n",
    "Resampling is the method that consists of drawing repeated samples from the original data samples. The method of Resampling is a nonparametric method of statistical inference.\n",
    "\n",
    "* Earlier, in this Problem we noticed that the Target column is Highly Imbalanced, we need to balance the data by using some Statistical Methods.\n",
    "* There are many Statistical Methods we can use for Resampling the Data such as:\n",
    "    * Over Samping\n",
    "    * Cluster based Sampling\n",
    "    * Under Sampling.\n",
    "    \n",
    "Oversampling and undersampling in data analysis are techniques used to adjust the class distribution of a data set. These terms are used both in statistical sampling, survey design methodology and in machine learning. Oversampling and undersampling are opposite and roughly equivalent techniques\n",
    "    \n",
    "* We are going to use Over Sampling. \n",
    "* We will not use Under Sampling to avoid data loss."
   ],
   "metadata": {}
  },
  {
   "cell_type": "code",
   "execution_count": 37,
   "source": [
    "# It is very important to resample the data, as the Target class is Highly imbalanced.\r\n",
    "# Here We are going to use Over Sampling Technique to resample the data.\r\n",
    "# lets import the SMOTE algorithm to do the same.\r\n",
    "\r\n",
    "from imblearn.over_sampling import SMOTE\r\n",
    "\r\n",
    "x_resample, y_resample  = SMOTE().fit_resample(x, y.values.ravel())\r\n",
    "\r\n",
    "# lets print the shape of x and y after resampling it\r\n",
    "print(x_resample.shape)\r\n",
    "print(y_resample.shape)"
   ],
   "outputs": [
    {
     "output_type": "stream",
     "name": "stdout",
     "text": [
      "(100280, 12)\n",
      "(100280,)\n"
     ]
    }
   ],
   "metadata": {}
  },
  {
   "cell_type": "code",
   "execution_count": 38,
   "source": [
    "# lets also check the value counts of our target variable4\r\n",
    "\r\n",
    "print(\"Before Resampling :\")\r\n",
    "print(y.value_counts())\r\n",
    "\r\n",
    "print(\"After Resampling :\")\r\n",
    "y_resample = pd.DataFrame(y_resample)\r\n",
    "print(y_resample[0].value_counts())"
   ],
   "outputs": [
    {
     "output_type": "stream",
     "name": "stdout",
     "text": [
      "Before Resampling :\n",
      "0    50140\n",
      "1     4666\n",
      "Name: is_promoted, dtype: int64\n",
      "After Resampling :\n",
      "0    50140\n",
      "1    50140\n",
      "Name: 0, dtype: int64\n"
     ]
    }
   ],
   "metadata": {}
  },
  {
   "cell_type": "code",
   "execution_count": 39,
   "source": [
    "# lets create a validation set from the training data so that we can check whether the model that we have created is good enough\r\n",
    "# lets import the train_test_split library from sklearn to do that\r\n",
    "\r\n",
    "from sklearn.model_selection import train_test_split\r\n",
    "\r\n",
    "x_train, x_valid, y_train, y_valid = train_test_split(x_resample, y_resample, test_size = 0.2, random_state = 0)\r\n",
    "\r\n",
    "# lets print the shapes again \r\n",
    "print(\"Shape of the x Train :\", x_train.shape)\r\n",
    "print(\"Shape of the y Train :\", y_train.shape)\r\n",
    "print(\"Shape of the x Valid :\", x_valid.shape)\r\n",
    "print(\"Shape of the y Valid :\", y_valid.shape)\r\n",
    "print(\"Shape of the x Test :\", x_test.shape)"
   ],
   "outputs": [
    {
     "output_type": "stream",
     "name": "stdout",
     "text": [
      "Shape of the x Train : (80224, 12)\n",
      "Shape of the y Train : (80224, 1)\n",
      "Shape of the x Valid : (20056, 12)\n",
      "Shape of the y Valid : (20056, 1)\n",
      "Shape of the x Test : (23490, 12)\n"
     ]
    }
   ],
   "metadata": {}
  },
  {
   "cell_type": "markdown",
   "source": [
    "## Feature Scaling\n",
    "\n",
    "Feature scaling is a method used to normalize the range of independent variables or features of data. In data processing, it is also known as data normalization and is generally performed during the data preprocessing step\n"
   ],
   "metadata": {}
  },
  {
   "cell_type": "code",
   "execution_count": 40,
   "source": [
    "# It is very import to scale all the features of the dataset into the same scale\r\n",
    "# Here, we are going to use the standardization method, which is very commonly used.\r\n",
    "\r\n",
    "# lets import the standard scaler library from sklearn to do that\r\n",
    "from sklearn.preprocessing import StandardScaler\r\n",
    "\r\n",
    "sc = StandardScaler()\r\n",
    "x_train = sc.fit_transform(x_train)\r\n",
    "x_valid = sc.transform(x_valid)\r\n",
    "x_test = sc.transform(x_test)"
   ],
   "outputs": [],
   "metadata": {}
  },
  {
   "cell_type": "markdown",
   "source": [
    "\n",
    "##  Machine Learning Predictive Modelling\n",
    "\n",
    "Predictive modeling is a process that uses data and statistics to predict outcomes with data models. These models can be used to predict anything from sports outcomes and TV ratings to technological advances and corporate earnings. Predictive modeling is also often referred to as: Predictive analytics."
   ],
   "metadata": {}
  },
  {
   "cell_type": "markdown",
   "source": [
    "\n",
    "\n",
    "### Decision Tree Classifier\n",
    "\n",
    "A decision tree is a decision support tool that uses a tree-like model of decisions and their possible consequences, including chance event outcomes, resource costs, and utility. It is one way to display an algorithm that only contains conditional control statements.\n"
   ],
   "metadata": {}
  },
  {
   "cell_type": "code",
   "execution_count": 41,
   "source": [
    "# Lets use Decision Trees to classify the data\r\n",
    "from sklearn.tree import DecisionTreeClassifier\r\n",
    "from sklearn.feature_selection import RFECV\r\n",
    "\r\n",
    "model = DecisionTreeClassifier()\r\n",
    "model.fit(x_train, y_train)\r\n",
    "\r\n",
    "y_pred = model.predict(x_valid)"
   ],
   "outputs": [],
   "metadata": {}
  },
  {
   "cell_type": "code",
   "execution_count": 42,
   "source": [
    "from sklearn.metrics import confusion_matrix, classification_report\r\n",
    "\r\n",
    "print(\"Training Accuracy :\", model.score(x_train, y_train))\r\n",
    "print(\"Testing Accuracy :\", model.score(x_valid, y_valid))\r\n",
    "\r\n",
    "cm = confusion_matrix(y_valid, y_pred)\r\n",
    "plt.rcParams['figure.figsize'] = (3, 3)\r\n",
    "sns.heatmap(cm, annot = True, cmap = 'Wistia', fmt = '.8g')\r\n",
    "plt.xlabel('Predicted Values')\r\n",
    "plt.ylabel('Actual Values')\r\n",
    "plt.show()"
   ],
   "outputs": [
    {
     "output_type": "stream",
     "name": "stdout",
     "text": [
      "Training Accuracy : 0.9904517351416036\n",
      "Testing Accuracy : 0.9341344236138811\n"
     ]
    },
    {
     "output_type": "display_data",
     "data": {
      "text/plain": [
       "<Figure size 216x216 with 2 Axes>"
      ],
      "image/png": "[encoded data removed]"
     },
     "metadata": {}
    }
   ],
   "metadata": {}
  },
  {
   "cell_type": "code",
   "execution_count": 43,
   "source": [
    "# lets take a look at the Classification Report\r\n",
    "\r\n",
    "cr = classification_report(y_valid, y_pred)\r\n",
    "print(cr)"
   ],
   "outputs": [
    {
     "output_type": "stream",
     "name": "stdout",
     "text": [
      "              precision    recall  f1-score   support\n",
      "\n",
      "           0       0.95      0.91      0.93      9981\n",
      "           1       0.92      0.95      0.94     10075\n",
      "\n",
      "    accuracy                           0.93     20056\n",
      "   macro avg       0.93      0.93      0.93     20056\n",
      "weighted avg       0.93      0.93      0.93     20056\n",
      "\n"
     ]
    }
   ],
   "metadata": {}
  },
  {
   "cell_type": "markdown",
   "source": [
    "# Realtime Prediction"
   ],
   "metadata": {}
  },
  {
   "cell_type": "code",
   "execution_count": 44,
   "source": [
    "train.describe()"
   ],
   "outputs": [
    {
     "output_type": "execute_result",
     "data": {
      "text/plain": [
       "         department     education        gender  no_of_trainings  \\\n",
       "count  54806.000000  54806.000000  54806.000000     54806.000000   \n",
       "mean       4.972722      2.257636      0.702368         1.253020   \n",
       "std        2.506061      0.469723      0.457221         0.609273   \n",
       "min        0.000000      1.000000      0.000000         1.000000   \n",
       "25%        4.000000      2.000000      0.000000         1.000000   \n",
       "50%        5.000000      2.000000      1.000000         1.000000   \n",
       "75%        7.000000      3.000000      1.000000         1.000000   \n",
       "max        8.000000      3.000000      1.000000        10.000000   \n",
       "\n",
       "                age  previous_year_rating  length_of_service  KPIs_met >80%  \\\n",
       "count  54806.000000          54806.000000       54806.000000   54806.000000   \n",
       "mean      34.804127              3.304565           5.865599       0.351987   \n",
       "std        7.660219              1.214712           4.265138       0.477594   \n",
       "min       20.000000              1.000000           1.000000       0.000000   \n",
       "25%       29.000000              3.000000           3.000000       0.000000   \n",
       "50%       33.000000              3.000000           5.000000       0.000000   \n",
       "75%       39.000000              4.000000           7.000000       1.000000   \n",
       "max       60.000000              5.000000          37.000000       1.000000   \n",
       "\n",
       "        awards_won?  avg_training_score   is_promoted    sum_metric  \\\n",
       "count  54806.000000        54806.000000  54806.000000  54806.000000   \n",
       "mean       0.023173           63.386947      0.085137      3.679725   \n",
       "std        0.150453           13.371764      0.279088      1.463326   \n",
       "min        0.000000           39.000000      0.000000      1.000000   \n",
       "25%        0.000000           51.000000      0.000000      3.000000   \n",
       "50%        0.000000           60.000000      0.000000      4.000000   \n",
       "75%        0.000000           76.000000      0.000000      5.000000   \n",
       "max        1.000000           99.000000      1.000000      7.000000   \n",
       "\n",
       "        total_score  \n",
       "count  54806.000000  \n",
       "mean      79.771430  \n",
       "std       43.879739  \n",
       "min       39.000000  \n",
       "25%       53.000000  \n",
       "50%       64.000000  \n",
       "75%       84.000000  \n",
       "max      710.000000  "
      ],
      "text/html": [
       "<div>\n",
       "<style scoped>\n",
       "    .dataframe tbody tr th:only-of-type {\n",
       "        vertical-align: middle;\n",
       "    }\n",
       "\n",
       "    .dataframe tbody tr th {\n",
       "        vertical-align: top;\n",
       "    }\n",
       "\n",
       "    .dataframe thead th {\n",
       "        text-align: right;\n",
       "    }\n",
       "</style>\n",
       "<table border=\"1\" class=\"dataframe\">\n",
       "  <thead>\n",
       "    <tr style=\"text-align: right;\">\n",
       "      <th></th>\n",
       "      <th>department</th>\n",
       "      <th>education</th>\n",
       "      <th>gender</th>\n",
       "      <th>no_of_trainings</th>\n",
       "      <th>age</th>\n",
       "      <th>previous_year_rating</th>\n",
       "      <th>length_of_service</th>\n",
       "      <th>KPIs_met &gt;80%</th>\n",
       "      <th>awards_won?</th>\n",
       "      <th>avg_training_score</th>\n",
       "      <th>is_promoted</th>\n",
       "      <th>sum_metric</th>\n",
       "      <th>total_score</th>\n",
       "    </tr>\n",
       "  </thead>\n",
       "  <tbody>\n",
       "    <tr>\n",
       "      <th>count</th>\n",
       "      <td>54806.000000</td>\n",
       "      <td>54806.000000</td>\n",
       "      <td>54806.000000</td>\n",
       "      <td>54806.000000</td>\n",
       "      <td>54806.000000</td>\n",
       "      <td>54806.000000</td>\n",
       "      <td>54806.000000</td>\n",
       "      <td>54806.000000</td>\n",
       "      <td>54806.000000</td>\n",
       "      <td>54806.000000</td>\n",
       "      <td>54806.000000</td>\n",
       "      <td>54806.000000</td>\n",
       "      <td>54806.000000</td>\n",
       "    </tr>\n",
       "    <tr>\n",
       "      <th>mean</th>\n",
       "      <td>4.972722</td>\n",
       "      <td>2.257636</td>\n",
       "      <td>0.702368</td>\n",
       "      <td>1.253020</td>\n",
       "      <td>34.804127</td>\n",
       "      <td>3.304565</td>\n",
       "      <td>5.865599</td>\n",
       "      <td>0.351987</td>\n",
       "      <td>0.023173</td>\n",
       "      <td>63.386947</td>\n",
       "      <td>0.085137</td>\n",
       "      <td>3.679725</td>\n",
       "      <td>79.771430</td>\n",
       "    </tr>\n",
       "    <tr>\n",
       "      <th>std</th>\n",
       "      <td>2.506061</td>\n",
       "      <td>0.469723</td>\n",
       "      <td>0.457221</td>\n",
       "      <td>0.609273</td>\n",
       "      <td>7.660219</td>\n",
       "      <td>1.214712</td>\n",
       "      <td>4.265138</td>\n",
       "      <td>0.477594</td>\n",
       "      <td>0.150453</td>\n",
       "      <td>13.371764</td>\n",
       "      <td>0.279088</td>\n",
       "      <td>1.463326</td>\n",
       "      <td>43.879739</td>\n",
       "    </tr>\n",
       "    <tr>\n",
       "      <th>min</th>\n",
       "      <td>0.000000</td>\n",
       "      <td>1.000000</td>\n",
       "      <td>0.000000</td>\n",
       "      <td>1.000000</td>\n",
       "      <td>20.000000</td>\n",
       "      <td>1.000000</td>\n",
       "      <td>1.000000</td>\n",
       "      <td>0.000000</td>\n",
       "      <td>0.000000</td>\n",
       "      <td>39.000000</td>\n",
       "      <td>0.000000</td>\n",
       "      <td>1.000000</td>\n",
       "      <td>39.000000</td>\n",
       "    </tr>\n",
       "    <tr>\n",
       "      <th>25%</th>\n",
       "      <td>4.000000</td>\n",
       "      <td>2.000000</td>\n",
       "      <td>0.000000</td>\n",
       "      <td>1.000000</td>\n",
       "      <td>29.000000</td>\n",
       "      <td>3.000000</td>\n",
       "      <td>3.000000</td>\n",
       "      <td>0.000000</td>\n",
       "      <td>0.000000</td>\n",
       "      <td>51.000000</td>\n",
       "      <td>0.000000</td>\n",
       "      <td>3.000000</td>\n",
       "      <td>53.000000</td>\n",
       "    </tr>\n",
       "    <tr>\n",
       "      <th>50%</th>\n",
       "      <td>5.000000</td>\n",
       "      <td>2.000000</td>\n",
       "      <td>1.000000</td>\n",
       "      <td>1.000000</td>\n",
       "      <td>33.000000</td>\n",
       "      <td>3.000000</td>\n",
       "      <td>5.000000</td>\n",
       "      <td>0.000000</td>\n",
       "      <td>0.000000</td>\n",
       "      <td>60.000000</td>\n",
       "      <td>0.000000</td>\n",
       "      <td>4.000000</td>\n",
       "      <td>64.000000</td>\n",
       "    </tr>\n",
       "    <tr>\n",
       "      <th>75%</th>\n",
       "      <td>7.000000</td>\n",
       "      <td>3.000000</td>\n",
       "      <td>1.000000</td>\n",
       "      <td>1.000000</td>\n",
       "      <td>39.000000</td>\n",
       "      <td>4.000000</td>\n",
       "      <td>7.000000</td>\n",
       "      <td>1.000000</td>\n",
       "      <td>0.000000</td>\n",
       "      <td>76.000000</td>\n",
       "      <td>0.000000</td>\n",
       "      <td>5.000000</td>\n",
       "      <td>84.000000</td>\n",
       "    </tr>\n",
       "    <tr>\n",
       "      <th>max</th>\n",
       "      <td>8.000000</td>\n",
       "      <td>3.000000</td>\n",
       "      <td>1.000000</td>\n",
       "      <td>10.000000</td>\n",
       "      <td>60.000000</td>\n",
       "      <td>5.000000</td>\n",
       "      <td>37.000000</td>\n",
       "      <td>1.000000</td>\n",
       "      <td>1.000000</td>\n",
       "      <td>99.000000</td>\n",
       "      <td>1.000000</td>\n",
       "      <td>7.000000</td>\n",
       "      <td>710.000000</td>\n",
       "    </tr>\n",
       "  </tbody>\n",
       "</table>\n",
       "</div>"
      ]
     },
     "metadata": {},
     "execution_count": 44
    }
   ],
   "metadata": {}
  },
  {
   "cell_type": "markdown",
   "source": [
    "# lets perform some Real time predictions on top of the Model that we just created using Decision Tree Classifier\r\n",
    "\r\n",
    "# lets check the parameters we have in our Model\r\n",
    "\r\n",
    "    department -> The values are from 0 to 8, (Department does not matter a lot for promotion)\r\n",
    "    education -> The values are from 0 to 3 where Masters-> 3, Btech -> 2, and secondary ed -> 1\r\n",
    "    gender -> the values are 0 for female, and 1 for male\r\n",
    "    no_of_trainings -> the values are from 0 to 5\r\n",
    "    age -> the values are from 20 to 60\r\n",
    "    previou_year_rating -> The values are from 1 to 5\r\n",
    "    length_of service -> The values are from 1 to 37\r\n",
    "    KPIs_met >80% -> 0 for Not Met and 1 for Met\r\n",
    "    awards_won> -> 0-no, and 1-yes\r\n",
    "    avg_training_score -> ranges from 40 to 99\r\n",
    "    sum_metric -> ranges from 1 to 7\r\n",
    "    total_score -> 40 to 710\r\n"
   ],
   "metadata": {}
  },
  {
   "cell_type": "code",
   "execution_count": 45,
   "source": [
    "prediction = model.predict(np.array([[2,\r\n",
    "                                      3,\r\n",
    "                                      1,\r\n",
    "                                      1,\r\n",
    "                                      30,\r\n",
    "                                      5,\r\n",
    "                                      10,\r\n",
    "                                      1,\r\n",
    "                                      1,\r\n",
    "                                      95,\r\n",
    "                                      7,\r\n",
    "                                      700\r\n",
    "                                     ]]))\r\n",
    "\r\n",
    "print(\"Whether the Employee should get a Promotion : 1-> Promotion, and 0-> No Promotion :\", prediction)"
   ],
   "outputs": [
    {
     "output_type": "stream",
     "name": "stdout",
     "text": [
      "Whether the Employee should get a Promotion : 1-> Promotion, and 0-> No Promotion : [1]\n"
     ]
    }
   ],
   "metadata": {}
  }
 ],
 "metadata": {
  "interpreter": {
   "hash": "349fa99260b57ee1fbf59b6ab239d73af329deaad73a50d9da700240410fb0c3"
  },
  "kernelspec": {
   "name": "python3",
   "display_name": "Python 3.9.5 64-bit"
  },
  "language_info": {
   "codemirror_mode": {
    "name": "ipython",
    "version": 3
   },
   "file_extension": ".py",
   "mimetype": "text/x-python",
   "name": "python",
   "nbconvert_exporter": "python",
   "pygments_lexer": "ipython3",
   "version": "3.9.5"
  }
 },
 "nbformat": 4,
 "nbformat_minor": 2
}